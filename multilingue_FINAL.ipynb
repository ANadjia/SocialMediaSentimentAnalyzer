{
  "nbformat": 4,
  "nbformat_minor": 0,
  "metadata": {
    "colab": {
      "name": "multilingue FINAL.ipynb",
      "provenance": [],
      "collapsed_sections": [],
      "include_colab_link": true
    },
    "kernelspec": {
      "name": "python3",
      "display_name": "Python 3"
    },
    "language_info": {
      "name": "python"
    },
    "accelerator": "GPU"
  },
  "cells": [
    {
      "cell_type": "markdown",
      "metadata": {
        "id": "view-in-github",
        "colab_type": "text"
      },
      "source": [
        "<a href=\"https://colab.research.google.com/github/ANadjia/SocialMediaSentimentAnalyzer/blob/code/multilingue_FINAL.ipynb\" target=\"_parent\"><img src=\"https://colab.research.google.com/assets/colab-badge.svg\" alt=\"Open In Colab\"/></a>"
      ]
    },
    {
      "cell_type": "code",
      "metadata": {
        "id": "lhdg3iBCLLK0"
      },
      "source": [
        "import re\n",
        "import nltk\n",
        "\n",
        "from sklearn.feature_extraction.text import TfidfVectorizer,CountVectorizer\n",
        "from sklearn.model_selection import train_test_split\n",
        "import pandas as pd\n",
        "import numpy as np\n"
      ],
      "execution_count": null,
      "outputs": []
    },
    {
      "cell_type": "code",
      "metadata": {
        "colab": {
          "base_uri": "https://localhost:8080/"
        },
        "id": "9JczffQKLrav",
        "outputId": "806ed052-1ba5-48a1-d975-dda1bd94e66a"
      },
      "source": [
        "from google.colab import drive\n",
        "drive.mount('/content/drive/')"
      ],
      "execution_count": null,
      "outputs": [
        {
          "output_type": "stream",
          "text": [
            "Mounted at /content/drive/\n"
          ],
          "name": "stdout"
        }
      ]
    },
    {
      "cell_type": "markdown",
      "metadata": {
        "id": "wzD0E_VxOvH8"
      },
      "source": [
        "* 2neutral=2333\n",
        "* 0irrelevant=1689\n",
        "* 1negative=572\n",
        "* 3positive =519\n",
        "\n",
        "\n"
      ]
    },
    {
      "cell_type": "code",
      "metadata": {
        "colab": {
          "base_uri": "https://localhost:8080/",
          "height": 359
        },
        "id": "QEekTlWCLuSC",
        "outputId": "f4d39c58-f6b2-4c70-94ce-baf29e05e1b6"
      },
      "source": [
        "\n",
        "df = pd.read_csv(\"/content/drive/My Drive/Colab Notebooks/Data/FinalData/multiC.csv\")\n",
        "df= df.sample(frac=1)\n",
        "#df.Sentiment.value_counts()\n",
        "df.head(10)"
      ],
      "execution_count": null,
      "outputs": [
        {
          "output_type": "execute_result",
          "data": {
            "text/html": [
              "<div>\n",
              "<style scoped>\n",
              "    .dataframe tbody tr th:only-of-type {\n",
              "        vertical-align: middle;\n",
              "    }\n",
              "\n",
              "    .dataframe tbody tr th {\n",
              "        vertical-align: top;\n",
              "    }\n",
              "\n",
              "    .dataframe thead th {\n",
              "        text-align: right;\n",
              "    }\n",
              "</style>\n",
              "<table border=\"1\" class=\"dataframe\">\n",
              "  <thead>\n",
              "    <tr style=\"text-align: right;\">\n",
              "      <th></th>\n",
              "      <th>Index</th>\n",
              "      <th>tweet</th>\n",
              "      <th>class</th>\n",
              "    </tr>\n",
              "  </thead>\n",
              "  <tbody>\n",
              "    <tr>\n",
              "      <th>282</th>\n",
              "      <td>282</td>\n",
              "      <td>ac  dc a bascul hier soir  la ralit aujourdhui...</td>\n",
              "      <td>0</td>\n",
              "    </tr>\n",
              "    <tr>\n",
              "      <th>12343</th>\n",
              "      <td>12343</td>\n",
              "      <td>jaimerais que je sois pay pour danser aussi  i...</td>\n",
              "      <td>0</td>\n",
              "    </tr>\n",
              "    <tr>\n",
              "      <th>12910</th>\n",
              "      <td>12910</td>\n",
              "      <td>jaimerais sil vous plait</td>\n",
              "      <td>1</td>\n",
              "    </tr>\n",
              "    <tr>\n",
              "      <th>10761</th>\n",
              "      <td>10761</td>\n",
              "      <td>كن انت تتغير اجل احد</td>\n",
              "      <td>1</td>\n",
              "    </tr>\n",
              "    <tr>\n",
              "      <th>11198</th>\n",
              "      <td>11198</td>\n",
              "      <td>ربنا يكتر امثالك يامصطفي</td>\n",
              "      <td>1</td>\n",
              "    </tr>\n",
              "    <tr>\n",
              "      <th>15435</th>\n",
              "      <td>15435</td>\n",
              "      <td>jai t malade toute la semaine je manque  mes a...</td>\n",
              "      <td>0</td>\n",
              "    </tr>\n",
              "    <tr>\n",
              "      <th>13262</th>\n",
              "      <td>13262</td>\n",
              "      <td>je viens de sortir du lit  alors je fais des t...</td>\n",
              "      <td>1</td>\n",
              "    </tr>\n",
              "    <tr>\n",
              "      <th>525</th>\n",
              "      <td>525</td>\n",
              "      <td>aujourdhui tait tellement gnial mon camarade d...</td>\n",
              "      <td>1</td>\n",
              "    </tr>\n",
              "    <tr>\n",
              "      <th>6331</th>\n",
              "      <td>6331</td>\n",
              "      <td>البرادعي شريك الانقلاب يهاجم الجيش والشرطه وال...</td>\n",
              "      <td>0</td>\n",
              "    </tr>\n",
              "    <tr>\n",
              "      <th>4964</th>\n",
              "      <td>4964</td>\n",
              "      <td>the food was barely lukewarm so it must have b...</td>\n",
              "      <td>0</td>\n",
              "    </tr>\n",
              "  </tbody>\n",
              "</table>\n",
              "</div>"
            ],
            "text/plain": [
              "       Index                                              tweet  class\n",
              "282      282  ac  dc a bascul hier soir  la ralit aujourdhui...      0\n",
              "12343  12343  jaimerais que je sois pay pour danser aussi  i...      0\n",
              "12910  12910                           jaimerais sil vous plait      1\n",
              "10761  10761                               كن انت تتغير اجل احد      1\n",
              "11198  11198                           ربنا يكتر امثالك يامصطفي      1\n",
              "15435  15435  jai t malade toute la semaine je manque  mes a...      0\n",
              "13262  13262  je viens de sortir du lit  alors je fais des t...      1\n",
              "525      525  aujourdhui tait tellement gnial mon camarade d...      1\n",
              "6331    6331  البرادعي شريك الانقلاب يهاجم الجيش والشرطه وال...      0\n",
              "4964    4964  the food was barely lukewarm so it must have b...      0"
            ]
          },
          "metadata": {},
          "execution_count": 18
        }
      ]
    },
    {
      "cell_type": "code",
      "metadata": {
        "id": "gfUkly3OUmS2"
      },
      "source": [
        ""
      ],
      "execution_count": null,
      "outputs": []
    },
    {
      "cell_type": "code",
      "metadata": {
        "colab": {
          "base_uri": "https://localhost:8080/",
          "height": 392
        },
        "id": "6Z2kNAmUPIPp",
        "outputId": "7abf4530-3f79-42c8-b284-0515370b177e"
      },
      "source": [
        "import seaborn as sns\n",
        "import matplotlib.pyplot as plt\n",
        "sns.set_style('darkgrid')\n",
        "plt.figure(figsize=(4, 5))\n",
        "sns.countplot(df['class'], palette=['red', 'green','blue','pink','black'])\n",
        "plt.title('Number of messeges in with each sentiment')\n",
        "plt.xlabel(\"\")\n",
        "plt.show()"
      ],
      "execution_count": null,
      "outputs": [
        {
          "output_type": "stream",
          "text": [
            "/usr/local/lib/python3.7/dist-packages/seaborn/_decorators.py:43: FutureWarning: Pass the following variable as a keyword arg: x. From version 0.12, the only valid positional argument will be `data`, and passing other arguments without an explicit keyword will result in an error or misinterpretation.\n",
            "  FutureWarning\n"
          ],
          "name": "stderr"
        },
        {
          "output_type": "display_data",
          "data": {
            "image/png": "[encoded data removed]",
            "text/plain": [
              "<Figure size 288x360 with 1 Axes>"
            ]
          },
          "metadata": {}
        }
      ]
    },
    {
      "cell_type": "code",
      "metadata": {
        "colab": {
          "base_uri": "https://localhost:8080/"
        },
        "id": "Nz7lRKoOPNzv",
        "outputId": "ea6032b1-c80b-47be-dea5-c42f5626c59d"
      },
      "source": [
        "X = df['tweet'].astype(str)\n",
        "y = df['class'].values\n",
        "X_train, X_test, y_train, y_test = train_test_split(X, y,test_size=0.2, random_state=42 , stratify=y)\n",
        "len(np.unique(y))\n"
      ],
      "execution_count": null,
      "outputs": [
        {
          "output_type": "execute_result",
          "data": {
            "text/plain": [
              "2"
            ]
          },
          "metadata": {},
          "execution_count": 20
        }
      ]
    },
    {
      "cell_type": "code",
      "metadata": {
        "colab": {
          "base_uri": "https://localhost:8080/"
        },
        "id": "0QZ-rOZtPoCU",
        "outputId": "93b042e8-468c-4bb7-b8de-ac334310930a"
      },
      "source": [
        "from keras.preprocessing.text import Tokenizer\n",
        "from sklearn.preprocessing import LabelEncoder\n",
        "from keras.preprocessing.sequence import pad_sequences\n",
        "\n",
        "train = X_train.values.tolist()\n",
        "sentencens = list()\n",
        "for line in train :\n",
        "  words = line.split(' ')\n",
        "  words = [word for word in words if word != '' and len(word)>2]\n",
        "  sentencens.append(words)\n",
        "\n",
        "\n",
        "tokenizer = Tokenizer()\n",
        "tokenizer.fit_on_texts(sentencens)\n",
        "encoded_docs = tokenizer.texts_to_sequences(sentencens)\n",
        "max_length = 300\n",
        "Xtrain = pad_sequences(encoded_docs, maxlen=max_length, padding='post')\n",
        "\n",
        "#encoder = LabelEncoder()\n",
        "#encoder.fit(y_train)\n",
        "#Ytrain = encoder.transform(y_train)\n",
        "Ytrain=y_train\n",
        "test = X_test.values.tolist()\n",
        "sentencens = list()\n",
        "for line in test :\n",
        "  words = line.split(' ')\n",
        "  words = [word for word in words if word != '' and len(word)>2]\n",
        "  sentencens.append(words)\n",
        "\n",
        "encoded_docs = tokenizer.texts_to_sequences(sentencens)\n",
        "Xtest = pad_sequences(encoded_docs, maxlen=max_length, padding='post')\n",
        "#encoder.fit(y_test)\n",
        "#Ytest = encoder.transform(y_test)\n",
        "Ytest = y_test\n",
        "vocab_size = len(tokenizer.word_index) + 1\n",
        "\n",
        "print(vocab_size)\n",
        "\n"
      ],
      "execution_count": null,
      "outputs": [
        {
          "output_type": "stream",
          "text": [
            "31360\n"
          ],
          "name": "stdout"
        }
      ]
    },
    {
      "cell_type": "code",
      "metadata": {
        "id": "fAVp56RAEZVd"
      },
      "source": [
        "import pickle\n",
        "with open('/content/drive/MyDrive/Colab Notebooks/ModelEss/tokenizer_data.pkl', 'wb') as handle:\n",
        "    pickle.dump(\n",
        "        {'tokenizer': tokenizer, 'num_words':vocab_size, 'maxlen':max_length}, handle)"
      ],
      "execution_count": null,
      "outputs": []
    },
    {
      "cell_type": "code",
      "metadata": {
        "colab": {
          "base_uri": "https://localhost:8080/"
        },
        "id": "cQGmajyVP177",
        "outputId": "668a3801-35a1-482b-92de-b0dace5243ff"
      },
      "source": [
        "from keras.layers import Conv1D, GlobalMaxPooling1D, MaxPooling1D, Dropout, Bidirectional,LSTM\n",
        "from keras.callbacks import ModelCheckpoint\n",
        "import tensorflow as tf\n",
        "from tensorflow import keras\n",
        "from tensorflow.keras import regularizers\n",
        "\n",
        "import numpy as np\n",
        "from keras.models import Sequential\n",
        "from keras.layers import Embedding \n",
        "from keras.layers import Activation, Dense\n",
        " \n",
        "from keras.regularizers import l2\n",
        "\n",
        "\n",
        "\n",
        "from sklearn.utils import class_weight\n",
        "class_weights = dict(zip(np.unique(y_train), class_weight.compute_class_weight('balanced', np.unique(y_train), \n",
        "                y_train))) \n",
        "from tensorflow.keras.layers import Embedding, LSTM,Conv1D,GlobalMaxPooling1D, MaxPooling1D,Dense,Bidirectional,Flatten## Neural networks layers \n",
        "\n",
        "\n",
        "def biLSTM(vocab_size, max_words, label_num):\n",
        "  model = Sequential()\n",
        "  model.add(Embedding(input_dim=vocab_size, output_dim=300, input_length=max_words))\n",
        "  model.add(Bidirectional( LSTM(units=64,return_sequences=True)))\n",
        "  model.add(Dropout(0.3))\n",
        "  model.add(Flatten())\n",
        "  model.add(Dense(128, activation='relu'))\n",
        "  model.add(Dropout(0.2))\n",
        "#Output  Layer\n",
        "  model.add(Dense(1, activation='sigmoid')) \n",
        "\n",
        "\n",
        "  return model\n",
        "\n",
        "\n",
        "#Ytrain = to_categorical(Ytrain)\n",
        "label_num = 2\n",
        "max_words = 300\n",
        "\n",
        "\n",
        "optimizer = keras.optimizers.Nadam(learning_rate=0.0001)\n",
        "\n",
        "\n",
        "#my_callbacks = [  tf.keras.callbacks.EarlyStopping(patience=3),\n",
        "    #tf.keras.callbacks.ModelCheckpoint(filepath='model.{epoch:02d}-{val_loss:.2f}.h5'),\n",
        "    #]\n",
        "\n",
        "model = biLSTM(vocab_size,max_words,label_num)\n",
        "print(model.summary())\n",
        "model.compile(loss='binary_crossentropy', optimizer=optimizer, metrics=['accuracy'])\n",
        "\n",
        "history = model.fit(Xtrain, Ytrain, batch_size=20, epochs=8,   validation_data=(Xtest, Ytest))\n"
      ],
      "execution_count": null,
      "outputs": [
        {
          "output_type": "stream",
          "text": [
            "Model: \"sequential_1\"\n",
            "_________________________________________________________________\n",
            "Layer (type)                 Output Shape              Param #   \n",
            "=================================================================\n",
            "embedding_1 (Embedding)      (None, 300, 300)          9408000   \n",
            "_________________________________________________________________\n",
            "bidirectional_1 (Bidirection (None, 300, 128)          186880    \n",
            "_________________________________________________________________\n",
            "dropout_2 (Dropout)          (None, 300, 128)          0         \n",
            "_________________________________________________________________\n",
            "flatten_1 (Flatten)          (None, 38400)             0         \n",
            "_________________________________________________________________\n",
            "dense_2 (Dense)              (None, 128)               4915328   \n",
            "_________________________________________________________________\n",
            "dropout_3 (Dropout)          (None, 128)               0         \n",
            "_________________________________________________________________\n",
            "dense_3 (Dense)              (None, 1)                 129       \n",
            "=================================================================\n",
            "Total params: 14,510,337\n",
            "Trainable params: 14,510,337\n",
            "Non-trainable params: 0\n",
            "_________________________________________________________________\n",
            "None\n",
            "Epoch 1/8\n",
            "618/618 [==============================] - 101s 157ms/step - loss: 0.6355 - accuracy: 0.6108 - val_loss: 0.5288 - val_accuracy: 0.7423\n",
            "Epoch 2/8\n",
            "618/618 [==============================] - 96s 155ms/step - loss: 0.3973 - accuracy: 0.8232 - val_loss: 0.5103 - val_accuracy: 0.7601\n",
            "Epoch 3/8\n",
            "618/618 [==============================] - 97s 156ms/step - loss: 0.2321 - accuracy: 0.9114 - val_loss: 0.5684 - val_accuracy: 0.7562\n",
            "Epoch 4/8\n",
            "618/618 [==============================] - 96s 156ms/step - loss: 0.1399 - accuracy: 0.9502 - val_loss: 0.6267 - val_accuracy: 0.7546\n",
            "Epoch 5/8\n",
            "618/618 [==============================] - 96s 156ms/step - loss: 0.0935 - accuracy: 0.9688 - val_loss: 0.7806 - val_accuracy: 0.7488\n",
            "Epoch 6/8\n",
            "618/618 [==============================] - 97s 156ms/step - loss: 0.0682 - accuracy: 0.9777 - val_loss: 0.8365 - val_accuracy: 0.7514\n",
            "Epoch 7/8\n",
            "618/618 [==============================] - 96s 156ms/step - loss: 0.0528 - accuracy: 0.9823 - val_loss: 0.9792 - val_accuracy: 0.7400\n",
            "Epoch 8/8\n",
            "618/618 [==============================] - 97s 156ms/step - loss: 0.0422 - accuracy: 0.9866 - val_loss: 1.0889 - val_accuracy: 0.7410\n"
          ],
          "name": "stdout"
        }
      ]
    },
    {
      "cell_type": "code",
      "metadata": {
        "id": "fg4JERcTOlLs",
        "colab": {
          "base_uri": "https://localhost:8080/"
        },
        "outputId": "c574267c-907a-4874-c60f-7d083fff2493"
      },
      "source": [
        "model.save('/content/drive/MyDrive/Colab Notebooks/ModelEss/model_741')"
      ],
      "execution_count": null,
      "outputs": [
        {
          "output_type": "stream",
          "text": [
            "WARNING:absl:Found untraced functions such as lstm_cell_4_layer_call_fn, lstm_cell_4_layer_call_and_return_conditional_losses, lstm_cell_5_layer_call_fn, lstm_cell_5_layer_call_and_return_conditional_losses, lstm_cell_4_layer_call_fn while saving (showing 5 of 10). These functions will not be directly callable after loading.\n"
          ],
          "name": "stderr"
        },
        {
          "output_type": "stream",
          "text": [
            "INFO:tensorflow:Assets written to: /content/drive/MyDrive/Colab Notebooks/ModelEss/model_741/assets\n"
          ],
          "name": "stdout"
        },
        {
          "output_type": "stream",
          "text": [
            "INFO:tensorflow:Assets written to: /content/drive/MyDrive/Colab Notebooks/ModelEss/model_741/assets\n"
          ],
          "name": "stderr"
        }
      ]
    },
    {
      "cell_type": "code",
      "metadata": {
        "colab": {
          "base_uri": "https://localhost:8080/"
        },
        "id": "h85y0e1gP2CP",
        "outputId": "2b3e78cc-e67f-451f-ae48-8d7f9635b029"
      },
      "source": [
        "from sklearn.metrics import classification_report\n",
        "from sklearn.metrics import accuracy_score\n",
        "\n",
        "from sklearn.metrics import classification_report\n",
        "y_test= model.predict(Xtest)\n",
        "y_test= np.round(y_test, 0)\n",
        "\n",
        "print('\\t\\t\\tPERFORMANCE\\n')\n",
        "print('Accuracy:', round(accuracy_score(Ytest, y_test), 4), '\\n')\n",
        "print(classification_report(Ytest, y_test))"
      ],
      "execution_count": null,
      "outputs": [
        {
          "output_type": "stream",
          "text": [
            "\t\t\tPERFORMANCE\n",
            "\n",
            "Accuracy: 0.741 \n",
            "\n",
            "              precision    recall  f1-score   support\n",
            "\n",
            "           0       0.75      0.76      0.76      1633\n",
            "           1       0.73      0.72      0.72      1456\n",
            "\n",
            "    accuracy                           0.74      3089\n",
            "   macro avg       0.74      0.74      0.74      3089\n",
            "weighted avg       0.74      0.74      0.74      3089\n",
            "\n"
          ],
          "name": "stdout"
        }
      ]
    },
    {
      "cell_type": "code",
      "metadata": {
        "colab": {
          "base_uri": "https://localhost:8080/"
        },
        "id": "iOSWRLzFVB7V",
        "outputId": "ed458ecc-76d1-4ce2-fe00-817bd324204a"
      },
      "source": [
        "from tensorflow.keras.optimizers import SGD,RMSprop\n",
        "opt = RMSprop(lr=0.001)\n",
        "from tensorflow.keras.layers import Embedding, LSTM,Conv1D,GlobalMaxPooling1D, MaxPooling1D,Dense,Bidirectional,Flatten## Neural networks layers \n",
        "from tensorflow.keras.models import Sequential "
      ],
      "execution_count": null,
      "outputs": [
        {
          "output_type": "stream",
          "text": [
            "/usr/local/lib/python3.7/dist-packages/keras/optimizer_v2/optimizer_v2.py:356: UserWarning: The `lr` argument is deprecated, use `learning_rate` instead.\n",
            "  \"The `lr` argument is deprecated, use `learning_rate` instead.\")\n"
          ],
          "name": "stderr"
        }
      ]
    },
    {
      "cell_type": "code",
      "metadata": {
        "colab": {
          "base_uri": "https://localhost:8080/"
        },
        "id": "5dqUL4EvUNjx",
        "outputId": "5e5ac8aa-dab0-4488-a1d7-ab728762c9b7"
      },
      "source": [
        "\n",
        "\n",
        "def CNN_attia(vocab_size, max_words, label_num):\n",
        "  model = Sequential()\n",
        "  model.add(Embedding(input_dim=vocab_size, output_dim=300, input_length=max_words))\n",
        "  model.add(Dropout(0.2))\n",
        "  model.add(Conv1D(activation=\"relu\", padding=\"valid\", filters=filter_size, kernel_size=7))\n",
        "  model.add(GlobalMaxPooling1D())\n",
        "  model.add(Dropout(0.2))\n",
        "\n",
        "  model.add(Dense(600, activation='relu'))\n",
        "  model.add(Dense(1, activation='sigmoid'))\n",
        "\n",
        "  return model\n",
        "\n",
        "\n",
        "import numpy as np\n",
        "\n",
        "label_num = len(np.unique(Ytrain))\n",
        "\n",
        "max_words = 300\n",
        "filter_size = 300\n",
        "net_size = 600\n",
        "epochs = 1\n",
        "\n",
        "\n",
        "my_callbacks = [  tf.keras.callbacks.EarlyStopping(patience=3),\n",
        "    ]\n",
        "\n",
        "model = CNN_attia(vocab_size,max_words,label_num)\n",
        "print(model.summary())\n",
        "optimizer = keras.optimizers.Nadam(learning_rate=0.001)\n",
        "model.compile(loss='binary_crossentropy', optimizer=optimizer, metrics=['accuracy'])\n",
        "\n",
        "model.fit(Xtrain, Ytrain, batch_size=20, epochs=5, validation_data=(Xtest, Ytest))\n"
      ],
      "execution_count": null,
      "outputs": [
        {
          "output_type": "stream",
          "text": [
            "Model: \"sequential_10\"\n",
            "_________________________________________________________________\n",
            "Layer (type)                 Output Shape              Param #   \n",
            "=================================================================\n",
            "embedding_10 (Embedding)     (None, 300, 300)          9379500   \n",
            "_________________________________________________________________\n",
            "dropout_10 (Dropout)         (None, 300, 300)          0         \n",
            "_________________________________________________________________\n",
            "conv1d_6 (Conv1D)            (None, 294, 300)          630300    \n",
            "_________________________________________________________________\n",
            "global_max_pooling1d_2 (Glob (None, 300)               0         \n",
            "_________________________________________________________________\n",
            "dropout_11 (Dropout)         (None, 300)               0         \n",
            "_________________________________________________________________\n",
            "dense_16 (Dense)             (None, 600)               180600    \n",
            "_________________________________________________________________\n",
            "dense_17 (Dense)             (None, 1)                 601       \n",
            "=================================================================\n",
            "Total params: 10,191,001\n",
            "Trainable params: 10,191,001\n",
            "Non-trainable params: 0\n",
            "_________________________________________________________________\n",
            "None\n",
            "Epoch 1/5\n",
            "618/618 [==============================] - 10s 15ms/step - loss: 0.5535 - accuracy: 0.7040 - val_loss: 0.4960 - val_accuracy: 0.7595\n",
            "Epoch 2/5\n",
            "618/618 [==============================] - 9s 15ms/step - loss: 0.2396 - accuracy: 0.9013 - val_loss: 0.5138 - val_accuracy: 0.7604\n",
            "Epoch 3/5\n",
            "618/618 [==============================] - 9s 15ms/step - loss: 0.0562 - accuracy: 0.9800 - val_loss: 0.8861 - val_accuracy: 0.7462\n",
            "Epoch 4/5\n",
            "618/618 [==============================] - 9s 15ms/step - loss: 0.0240 - accuracy: 0.9918 - val_loss: 1.1291 - val_accuracy: 0.7530\n",
            "Epoch 5/5\n",
            "618/618 [==============================] - 9s 15ms/step - loss: 0.0159 - accuracy: 0.9946 - val_loss: 1.0857 - val_accuracy: 0.7676\n"
          ],
          "name": "stdout"
        },
        {
          "output_type": "execute_result",
          "data": {
            "text/plain": [
              "<keras.callbacks.History at 0x7f0f8e345810>"
            ]
          },
          "metadata": {},
          "execution_count": 37
        }
      ]
    },
    {
      "cell_type": "code",
      "metadata": {
        "id": "6hNISMeZwM3v",
        "colab": {
          "base_uri": "https://localhost:8080/",
          "height": 295
        },
        "outputId": "502e83bc-0764-4dfb-e4df-5c29d1d45e5b"
      },
      "source": [
        "import matplotlib.pyplot as plt\n",
        "plt.plot(history.history['loss'])\n",
        "plt.plot(history.history['val_loss'])\n",
        "plt.title('model loss')\n",
        "plt.ylabel('loss')\n",
        "plt.xlabel('epoch')\n",
        "plt.legend(['train', 'validation'], loc='upper left')\n",
        "plt.show()\n",
        "\n"
      ],
      "execution_count": null,
      "outputs": [
        {
          "output_type": "display_data",
          "data": {
            "image/png": "[encoded data removed]",
            "text/plain": [
              "<Figure size 432x288 with 1 Axes>"
            ]
          },
          "metadata": {}
        }
      ]
    },
    {
      "cell_type": "code",
      "metadata": {
        "id": "1bLIuOlSr5Pf",
        "colab": {
          "base_uri": "https://localhost:8080/",
          "height": 295
        },
        "outputId": "d8bdc86c-d210-4da4-ca2a-4424af8b41d4"
      },
      "source": [
        "plt.plot(history.history['accuracy'])\n",
        "plt.plot(history.history['val_accuracy'])\n",
        "plt.title('model accuracy')\n",
        "plt.ylabel('accuracy')\n",
        "plt.xlabel('epoch')\n",
        "plt.legend(['train', 'validation'], loc='upper left')\n",
        "plt.show()"
      ],
      "execution_count": null,
      "outputs": [
        {
          "output_type": "display_data",
          "data": {
            "image/png": "[encoded data removed]",
            "text/plain": [
              "<Figure size 432x288 with 1 Axes>"
            ]
          },
          "metadata": {}
        }
      ]
    },
    {
      "cell_type": "code",
      "metadata": {
        "colab": {
          "base_uri": "https://localhost:8080/"
        },
        "id": "zYYoI0CbNYeO",
        "outputId": "2b0615c1-bc3b-4b06-99ee-a8d7745274eb"
      },
      "source": [
        "def predictionF(nombre):\n",
        "      if (nombre>0.5) : return 'Positive'\n",
        "      return 'Negative'\n",
        "\n",
        "phrase1 = ['i highly recommend you buy this product ']\n",
        "phrase2=[' Je regrette avoir acheté  ce produit , il est nul   ']\n",
        "phrase3 = ['منتوج جيد بجودة عالية ']\n",
        "phrase4 = ['je ne suis pas sur de racheter ']\n",
        "\n",
        "seq1= tokenizer.texts_to_sequences(phrase1)\n",
        "seq2= tokenizer.texts_to_sequences(phrase2)\n",
        "seq3= tokenizer.texts_to_sequences(phrase3)\n",
        "seq4= tokenizer.texts_to_sequences(phrase4)\n",
        "\n",
        "\n",
        "data1 = pad_sequences(seq1, maxlen= 300 , padding='post')\n",
        "data2 = pad_sequences(seq2, maxlen= 300 , padding='post')\n",
        "data3 = pad_sequences(seq3, maxlen= 300 , padding='post')\n",
        "data4 = pad_sequences(seq4, maxlen= 300 , padding='post')\n",
        "\n",
        "prediction1=model.predict(data1)\n",
        "prediction2=model.predict(data2)\n",
        "prediction3=model.predict(data3)\n",
        "prediction4=model.predict(data4)\n",
        "\n",
        "print('Predection\\n 1: ',predictionF(prediction1) ,'\\n 2: ',predictionF(prediction2),'\\n 3: ',predictionF(prediction3),'\\n 4: ',predictionF(prediction4))\n",
        "\n",
        "\n",
        "\n"
      ],
      "execution_count": null,
      "outputs": [
        {
          "output_type": "stream",
          "text": [
            "Predection\n",
            " 1:  Positive \n",
            " 2:  Negative \n",
            " 3:  Positive \n",
            " 4:  Negative\n"
          ],
          "name": "stdout"
        }
      ]
    }
  ]
}