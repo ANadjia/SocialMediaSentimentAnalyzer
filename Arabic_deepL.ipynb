{
  "nbformat": 4,
  "nbformat_minor": 0,
  "metadata": {
    "colab": {
      "name": "Arabic deepL.ipynb",
      "provenance": [],
      "collapsed_sections": [],
      "include_colab_link": true
    },
    "kernelspec": {
      "name": "python3",
      "display_name": "Python 3"
    },
    "language_info": {
      "name": "python"
    },
    "accelerator": "GPU"
  },
  "cells": [
    {
      "cell_type": "markdown",
      "metadata": {
        "id": "view-in-github",
        "colab_type": "text"
      },
      "source": [
        "<a href=\"https://colab.research.google.com/github/ANadjia/SocialMediaSentimentAnalyzer/blob/code/Arabic_deepL.ipynb\" target=\"_parent\"><img src=\"https://colab.research.google.com/assets/colab-badge.svg\" alt=\"Open In Colab\"/></a>"
      ]
    },
    {
      "cell_type": "markdown",
      "metadata": {
        "id": "F3Tjyj8mKtKu"
      },
      "source": [
        "# ***ARABIC SENTIMENT ANALYSIS USING  DL***"
      ]
    },
    {
      "cell_type": "code",
      "metadata": {
        "id": "-yBtlVI9_N8H"
      },
      "source": [
        "import pandas as pd\n",
        "import numpy as np\n",
        "from sklearn.metrics import classification_report\n",
        "from sklearn.model_selection import train_test_split\n",
        "from gensim.models import Word2Vec\n",
        "from keras.preprocessing import  sequence\n",
        "from keras.models import Sequential\n",
        "from keras.layers import Dense ,Dropout, Embedding,LSTM, Bidirectional,SpatialDropout1D\n",
        "from sklearn.datasets import load_files\n",
        "from sklearn.model_selection import train_test_split\n",
        "from keras.preprocessing.text import Tokenizer\n",
        "from keras.callbacks import EarlyStopping\n",
        "from keras.callbacks import TensorBoard\n",
        "from tensorflow.keras.optimizers import Adam # - Works\n",
        "import matplotlib.pyplot as plt \n",
        "import codecs\n",
        "import re \n",
        "from sklearn.metrics import accuracy_score\n"
      ],
      "execution_count": 1,
      "outputs": []
    },
    {
      "cell_type": "code",
      "metadata": {
        "colab": {
          "base_uri": "https://localhost:8080/"
        },
        "id": "iK5OV-Ct_Wiv",
        "outputId": "ef1b6790-cfb8-4868-c2ad-3f041fd0a1e1"
      },
      "source": [
        "from google.colab import drive\n",
        "drive.mount('/content/drive/'  ,force_remount=True)"
      ],
      "execution_count": 2,
      "outputs": [
        {
          "output_type": "stream",
          "text": [
            "Mounted at /content/drive/\n"
          ],
          "name": "stdout"
        }
      ]
    },
    {
      "cell_type": "markdown",
      "metadata": {
        "id": "vPXLqFNCK9H1"
      },
      "source": [
        "## Data importation"
      ]
    },
    {
      "cell_type": "code",
      "metadata": {
        "id": "WrZb-oUVK_OR"
      },
      "source": [
        "\n",
        "data = pd.read_csv('/content/drive/MyDrive/Colab Notebooks/Data/FinalData/Modif _300.csv').iloc[2:,:]\n",
        "dataframe=x = data.sample(frac=1)"
      ],
      "execution_count": 3,
      "outputs": []
    },
    {
      "cell_type": "code",
      "metadata": {
        "id": "fm1EOyZC_wQJ"
      },
      "source": [
        "#dataframe = pd.read_csv('/content/drive/MyDrive/Colab Notebooks/Data/Modif _300.csv').iloc[2:,:]\n",
        "#dataframe[\"class\"] = np.where(dataframe[\"Class\"] == \"Positive\",1,0)\n"
      ],
      "execution_count": null,
      "outputs": []
    },
    {
      "cell_type": "code",
      "metadata": {
        "id": "vwL1gmMKNUEM",
        "colab": {
          "base_uri": "https://localhost:8080/",
          "height": 204
        },
        "outputId": "feb83a80-6e74-4cae-ef45-cdf9450dc7c6"
      },
      "source": [
        "dataframe.head()"
      ],
      "execution_count": 4,
      "outputs": [
        {
          "output_type": "execute_result",
          "data": {
            "text/html": [
              "<div>\n",
              "<style scoped>\n",
              "    .dataframe tbody tr th:only-of-type {\n",
              "        vertical-align: middle;\n",
              "    }\n",
              "\n",
              "    .dataframe tbody tr th {\n",
              "        vertical-align: top;\n",
              "    }\n",
              "\n",
              "    .dataframe thead th {\n",
              "        text-align: right;\n",
              "    }\n",
              "</style>\n",
              "<table border=\"1\" class=\"dataframe\">\n",
              "  <thead>\n",
              "    <tr style=\"text-align: right;\">\n",
              "      <th></th>\n",
              "      <th>Unnamed: 0</th>\n",
              "      <th>Tweet</th>\n",
              "      <th>Class</th>\n",
              "    </tr>\n",
              "  </thead>\n",
              "  <tbody>\n",
              "    <tr>\n",
              "      <th>3990</th>\n",
              "      <td>3991</td>\n",
              "      <td>صفحتك محترمه تحرجنا باسيله اجوبتها مقوده</td>\n",
              "      <td>0</td>\n",
              "    </tr>\n",
              "    <tr>\n",
              "      <th>9511</th>\n",
              "      <td>9512</td>\n",
              "      <td>مش عارف بصراحه الروايه ديه ازاي اترشحت للبوكر ...</td>\n",
              "      <td>0</td>\n",
              "    </tr>\n",
              "    <tr>\n",
              "      <th>44582</th>\n",
              "      <td>44369</td>\n",
              "      <td>فندق لطيف جدا ان قرات موقع حول الفندق كانت مفا...</td>\n",
              "      <td>1</td>\n",
              "    </tr>\n",
              "    <tr>\n",
              "      <th>28744</th>\n",
              "      <td>28531</td>\n",
              "      <td>اول وافضل شركات دونات اليمن وانا متفايل خير وم...</td>\n",
              "      <td>1</td>\n",
              "    </tr>\n",
              "    <tr>\n",
              "      <th>22134</th>\n",
              "      <td>22135</td>\n",
              "      <td>الفنين والعلاماء والمهنين هجرو ردايت المعيشه ف...</td>\n",
              "      <td>0</td>\n",
              "    </tr>\n",
              "  </tbody>\n",
              "</table>\n",
              "</div>"
            ],
            "text/plain": [
              "       Unnamed: 0                                              Tweet  Class\n",
              "3990         3991           صفحتك محترمه تحرجنا باسيله اجوبتها مقوده      0\n",
              "9511         9512  مش عارف بصراحه الروايه ديه ازاي اترشحت للبوكر ...      0\n",
              "44582       44369  فندق لطيف جدا ان قرات موقع حول الفندق كانت مفا...      1\n",
              "28744       28531  اول وافضل شركات دونات اليمن وانا متفايل خير وم...      1\n",
              "22134       22135  الفنين والعلاماء والمهنين هجرو ردايت المعيشه ف...      0"
            ]
          },
          "metadata": {},
          "execution_count": 4
        }
      ]
    },
    {
      "cell_type": "code",
      "metadata": {
        "colab": {
          "base_uri": "https://localhost:8080/",
          "height": 405
        },
        "id": "-kGOCOq95hPn",
        "outputId": "213b2622-aa4a-4c77-e613-2c3ea3683b78"
      },
      "source": [
        "import seaborn as sns\n",
        "import matplotlib.pyplot as plt\n",
        "sns.set_style('darkgrid')\n",
        "plt.figure(figsize=(4, 5))\n",
        "sns.countplot(dataframe['Class'], palette=['red', 'green','pink'])\n",
        "plt.title('Number of messeges in with each sentiment')\n",
        "plt.xlabel(\"Negative(-1): Positive(1)\")\n",
        "plt.show()"
      ],
      "execution_count": 5,
      "outputs": [
        {
          "output_type": "stream",
          "text": [
            "/usr/local/lib/python3.7/dist-packages/seaborn/_decorators.py:43: FutureWarning: Pass the following variable as a keyword arg: x. From version 0.12, the only valid positional argument will be `data`, and passing other arguments without an explicit keyword will result in an error or misinterpretation.\n",
            "  FutureWarning\n"
          ],
          "name": "stderr"
        },
        {
          "output_type": "display_data",
          "data": {
            "image/png": "[encoded data removed]",
            "text/plain": [
              "<Figure size 288x360 with 1 Axes>"
            ]
          },
          "metadata": {}
        }
      ]
    },
    {
      "cell_type": "code",
      "metadata": {
        "colab": {
          "base_uri": "https://localhost:8080/"
        },
        "id": "48EmG0758gp_",
        "outputId": "1e5b3e7a-6450-40d8-8966-411a26069caa"
      },
      "source": [
        "import gensim\n",
        "# load the AraVec model\n",
        "model = gensim.models.Word2Vec.load(\"/content/drive/My Drive/Colab Notebooks/EmbeddingModels/full_grams_cbow_300_twitter.mdl\")\n",
        "#model = gensim.models.Word2Vec.load('full_grams_cbow_300_twitter.mdl')\n",
        "print(\"We've\",len(model.wv.index2word),\"vocabularies\")"
      ],
      "execution_count": 6,
      "outputs": [
        {
          "output_type": "stream",
          "text": [
            "We've 1476715 vocabularies\n"
          ],
          "name": "stdout"
        }
      ]
    },
    {
      "cell_type": "code",
      "metadata": {
        "id": "a4Rs_oIPBm3P",
        "colab": {
          "base_uri": "https://localhost:8080/"
        },
        "outputId": "8fd1b059-1f35-4a28-cf40-611e9bddedae"
      },
      "source": [
        "#dataframe[\"class\"] = np.where(dataframe[\"class\"] == \"Positive\",1,-1)\n",
        "from sklearn.model_selection import train_test_split\n",
        "#dataframe[\"class\"] = np.where(dataframe[\"class\"] == \"Positive\",1,-0)\n",
        "\n",
        "X = dataframe['Tweet'].astype(str).values\n",
        "y= dataframe['Class'].values\n",
        "   \n",
        "X_train, X_val, y_train, y_val = train_test_split( X, y, test_size=0.2, random_state=42, shuffle=True , stratify=y)\n",
        "\n",
        "len(np.unique(y_train))"
      ],
      "execution_count": 7,
      "outputs": [
        {
          "output_type": "execute_result",
          "data": {
            "text/plain": [
              "2"
            ]
          },
          "metadata": {},
          "execution_count": 7
        }
      ]
    },
    {
      "cell_type": "code",
      "metadata": {
        "colab": {
          "base_uri": "https://localhost:8080/"
        },
        "id": "rfB-AWtLVTNv",
        "outputId": "f47cb7e7-886d-4786-e68b-7fa3d2d6a177"
      },
      "source": [
        "y_val[150:200]"
      ],
      "execution_count": 8,
      "outputs": [
        {
          "output_type": "execute_result",
          "data": {
            "text/plain": [
              "array([0, 1, 0, 0, 1, 0, 1, 1, 1, 0, 0, 1, 1, 0, 1, 0, 0, 0, 0, 0, 0, 0,\n",
              "       0, 0, 1, 0, 1, 0, 0, 0, 1, 0, 0, 0, 0, 0, 0, 0, 1, 0, 0, 1, 1, 0,\n",
              "       1, 1, 0, 1, 0, 1])"
            ]
          },
          "metadata": {},
          "execution_count": 8
        }
      ]
    },
    {
      "cell_type": "code",
      "metadata": {
        "colab": {
          "base_uri": "https://localhost:8080/"
        },
        "id": "obpcxSCOSbmL",
        "outputId": "4db0db6d-9aa0-482c-efb4-2d25c1a3fe1d"
      },
      "source": [
        "max_num_words=len(X_train)\n",
        "print(max_num_words)"
      ],
      "execution_count": 9,
      "outputs": [
        {
          "output_type": "stream",
          "text": [
            "39732\n"
          ],
          "name": "stdout"
        }
      ]
    },
    {
      "cell_type": "code",
      "metadata": {
        "colab": {
          "base_uri": "https://localhost:8080/"
        },
        "id": "BcS6gR22RANm",
        "outputId": "0189d502-ac2f-4e57-8f62-61c76d2a4d2a"
      },
      "source": [
        "# Identify max length of reviews\n",
        "max_length = 0\n",
        "for review_number in range(len(list_tokenized_train)):\n",
        "  numberofwords=len(list_tokenized_train [review_number])\n",
        "  if (numberofwords) > (max_length):\n",
        "    max_length = numberofwords\n",
        "print(max_length)"
      ],
      "execution_count": 12,
      "outputs": [
        {
          "output_type": "stream",
          "text": [
            "279\n"
          ],
          "name": "stdout"
        }
      ]
    },
    {
      "cell_type": "code",
      "metadata": {
        "id": "9QAg_KsR_XOJ",
        "colab": {
          "base_uri": "https://localhost:8080/"
        },
        "outputId": "b3a75f95-5f1e-4468-f97c-117e9866d82d"
      },
      "source": [
        "from tensorflow.keras.preprocessing.sequence import pad_sequences\n",
        "from tensorflow.keras.preprocessing.text import one_hot, Tokenizer\n",
        "max_num_words = 39732\n",
        "\n",
        "max_length =279\n",
        "tokenizer = Tokenizer(num_words=max_num_words)\n",
        "tokenizer.fit_on_texts(list(X_train))\n",
        "\n",
        "list_tokenized_train = tokenizer.texts_to_sequences(X_train)\n",
        "list_tokenized_test = tokenizer.texts_to_sequences(X_val)\n",
        "\n",
        "list_tokenized_train[3]"
      ],
      "execution_count": 13,
      "outputs": [
        {
          "output_type": "execute_result",
          "data": {
            "text/plain": [
              "[132,\n",
              " 1560,\n",
              " 17,\n",
              " 20,\n",
              " 1180,\n",
              " 20186,\n",
              " 161,\n",
              " 3938,\n",
              " 58,\n",
              " 4425,\n",
              " 1371,\n",
              " 29828,\n",
              " 15452,\n",
              " 48,\n",
              " 2810,\n",
              " 68,\n",
              " 18322,\n",
              " 20,\n",
              " 488,\n",
              " 62,\n",
              " 634,\n",
              " 10731,\n",
              " 7464,\n",
              " 95,\n",
              " 3862,\n",
              " 688,\n",
              " 2036]"
            ]
          },
          "metadata": {},
          "execution_count": 13
        }
      ]
    },
    {
      "cell_type": "code",
      "metadata": {
        "id": "PnbhyVhxwYyB"
      },
      "source": [
        "import pickle\n",
        "import pickle\n",
        "with open('/content/drive/MyDrive/Colab Notebooks/ModelEss/tokenizer_data.pkl', 'wb') as handle:\n",
        "    pickle.dump(\n",
        "        {'tokenizer': tokenizer, 'num_words':max_num_words, 'maxlen':max_length}, handle)\n",
        "    \n",
        "\n",
        "   \n"
      ],
      "execution_count": 14,
      "outputs": []
    },
    {
      "cell_type": "code",
      "metadata": {
        "id": "9Rz9XGIHQbWi",
        "colab": {
          "base_uri": "https://localhost:8080/"
        },
        "outputId": "33a48801-b783-4b38-8e61-d3b022e96146"
      },
      "source": [
        "X_tr = pad_sequences(list_tokenized_train, maxlen=max_length, padding='post')\n",
        "X_tes = pad_sequences(list_tokenized_test, maxlen=max_length, padding='post')\n",
        "X_tr[3]"
      ],
      "execution_count": 15,
      "outputs": [
        {
          "output_type": "execute_result",
          "data": {
            "text/plain": [
              "array([  132,  1560,    17,    20,  1180, 20186,   161,  3938,    58,\n",
              "        4425,  1371, 29828, 15452,    48,  2810,    68, 18322,    20,\n",
              "         488,    62,   634, 10731,  7464,    95,  3862,   688,  2036,\n",
              "           0,     0,     0,     0,     0,     0,     0,     0,     0,\n",
              "           0,     0,     0,     0,     0,     0,     0,     0,     0,\n",
              "           0,     0,     0,     0,     0,     0,     0,     0,     0,\n",
              "           0,     0,     0,     0,     0,     0,     0,     0,     0,\n",
              "           0,     0,     0,     0,     0,     0,     0,     0,     0,\n",
              "           0,     0,     0,     0,     0,     0,     0,     0,     0,\n",
              "           0,     0,     0,     0,     0,     0,     0,     0,     0,\n",
              "           0,     0,     0,     0,     0,     0,     0,     0,     0,\n",
              "           0,     0,     0,     0,     0,     0,     0,     0,     0,\n",
              "           0,     0,     0,     0,     0,     0,     0,     0,     0,\n",
              "           0,     0,     0,     0,     0,     0,     0,     0,     0,\n",
              "           0,     0,     0,     0,     0,     0,     0,     0,     0,\n",
              "           0,     0,     0,     0,     0,     0,     0,     0,     0,\n",
              "           0,     0,     0,     0,     0,     0,     0,     0,     0,\n",
              "           0,     0,     0,     0,     0,     0,     0,     0,     0,\n",
              "           0,     0,     0,     0,     0,     0,     0,     0,     0,\n",
              "           0,     0,     0,     0,     0,     0,     0,     0,     0,\n",
              "           0,     0,     0,     0,     0,     0,     0,     0,     0,\n",
              "           0,     0,     0,     0,     0,     0,     0,     0,     0,\n",
              "           0,     0,     0,     0,     0,     0,     0,     0,     0,\n",
              "           0,     0,     0,     0,     0,     0,     0,     0,     0,\n",
              "           0,     0,     0,     0,     0,     0,     0,     0,     0,\n",
              "           0,     0,     0,     0,     0,     0,     0,     0,     0,\n",
              "           0,     0,     0,     0,     0,     0,     0,     0,     0,\n",
              "           0,     0,     0,     0,     0,     0,     0,     0,     0,\n",
              "           0,     0,     0,     0,     0,     0,     0,     0,     0,\n",
              "           0,     0,     0,     0,     0,     0,     0,     0,     0,\n",
              "           0,     0,     0,     0,     0,     0,     0,     0,     0],\n",
              "      dtype=int32)"
            ]
          },
          "metadata": {},
          "execution_count": 15
        }
      ]
    },
    {
      "cell_type": "code",
      "metadata": {
        "colab": {
          "base_uri": "https://localhost:8080/"
        },
        "id": "1zxWbZ6lQ8j1",
        "outputId": "5af9689f-0b4d-4e64-e3be-f09754f5ba7a"
      },
      "source": [
        "# Show the vocabulory\n",
        "#define max_word :D\n",
        "word_index = tokenizer.word_index\n",
        "print(tokenizer.word_index)\n",
        "print('Found %s unique tokens.' % len(word_index))\n",
        "len(list_tokenized_train)"
      ],
      "execution_count": 16,
      "outputs": [
        {
          "output_type": "stream",
          "text": [
            "IOPub data rate exceeded.\n",
            "The notebook server will temporarily stop sending output\n",
            "to the client in order to avoid crashing it.\n",
            "To change this limit, set the config variable\n",
            "`--NotebookApp.iopub_data_rate_limit`.\n",
            "\n",
            "Current values:\n",
            "NotebookApp.iopub_data_rate_limit=1000000.0 (bytes/sec)\n",
            "NotebookApp.rate_limit_window=3.0 (secs)\n",
            "\n"
          ],
          "name": "stderr"
        },
        {
          "output_type": "execute_result",
          "data": {
            "text/plain": [
              "39732"
            ]
          },
          "metadata": {},
          "execution_count": 16
        }
      ]
    },
    {
      "cell_type": "code",
      "metadata": {
        "colab": {
          "base_uri": "https://localhost:8080/"
        },
        "id": "ooe1lvYPaJm9",
        "outputId": "f366a852-9877-4b87-e582-f35df651f001"
      },
      "source": [
        "word_index"
      ],
      "execution_count": null,
      "outputs": [
        {
          "output_type": "execute_result",
          "data": {
            "text/plain": [
              "{'علي': 1,\n",
              " 'ان': 2,\n",
              " 'جدا': 3,\n",
              " 'الي': 4,\n",
              " 'كان': 5,\n",
              " 'الفندق': 6,\n",
              " 'ا': 7,\n",
              " 'كانت': 8,\n",
              " 'او': 9,\n",
              " 'انه': 10,\n",
              " 'رايع': 11,\n",
              " 'فندق': 12,\n",
              " 'الكتاب': 13,\n",
              " 'الروايه': 14,\n",
              " 'حتي': 15,\n",
              " 'الله': 16,\n",
              " 'اكثر': 17,\n",
              " 'اي': 18,\n",
              " 'المطعم': 19,\n",
              " 'مره': 20,\n",
              " 'جيد': 21,\n",
              " 'انا': 22,\n",
              " 'الا': 23,\n",
              " 'افضل': 24,\n",
              " 'كنت': 25,\n",
              " 'رايعه': 26,\n",
              " 'اللي': 27,\n",
              " 'الغرف': 28,\n",
              " 'فقط': 29,\n",
              " 'مكان': 30,\n",
              " 'جميل': 31,\n",
              " 'المكان': 32,\n",
              " 'ممتاز': 33,\n",
              " 'شيء': 34,\n",
              " 'الغرفه': 35,\n",
              " 'اذا': 36,\n",
              " 'بشكل': 37,\n",
              " 'كتاب': 38,\n",
              " 'جيده': 39,\n",
              " 'يوجد': 40,\n",
              " 'اخري': 41,\n",
              " 'الطعام': 42,\n",
              " 'انها': 43,\n",
              " 'قبل': 44,\n",
              " 'مطعم': 45,\n",
              " 'الفيلم': 46,\n",
              " 'لقد': 47,\n",
              " 'شي': 48,\n",
              " 'وكان': 49,\n",
              " 'روايه': 50,\n",
              " 'يكون': 51,\n",
              " 'ممتازه': 52,\n",
              " 'للغايه': 53,\n",
              " 'عندما': 54,\n",
              " 'مش': 55,\n",
              " 'الكاتب': 56,\n",
              " 'جميله': 57,\n",
              " 'خدمه': 58,\n",
              " 'ايضا': 59,\n",
              " 'الاستقبال': 60,\n",
              " 'مثل': 61,\n",
              " 'الخدمه': 62,\n",
              " 'اخر': 63,\n",
              " 'اني': 64,\n",
              " 'انصح': 65,\n",
              " 'يمكن': 66,\n",
              " 'الكثير': 67,\n",
              " 'بالنسبه': 68,\n",
              " 'واحد': 69,\n",
              " 'الاكل': 70,\n",
              " 'ولم': 71,\n",
              " 'يوم': 72,\n",
              " 'العمل': 73,\n",
              " 'اول': 74,\n",
              " 'غرفه': 75,\n",
              " 'احد': 76,\n",
              " 'جد': 77,\n",
              " 'اما': 78,\n",
              " 'جميع': 79,\n",
              " 'كبير': 80,\n",
              " 'وفي': 81,\n",
              " 'تكون': 82,\n",
              " 'لان': 83,\n",
              " 'يكن': 84,\n",
              " 'سيه': 85,\n",
              " 'كبيره': 86,\n",
              " 'كثيرا': 87,\n",
              " 'خلال': 88,\n",
              " 'الافطار': 89,\n",
              " 'السباحه': 90,\n",
              " 'موقع': 91,\n",
              " 'وان': 92,\n",
              " 'وقد': 93,\n",
              " 'ب': 94,\n",
              " 'الناس': 95,\n",
              " 'وقت': 96,\n",
              " 'واحده': 97,\n",
              " 'نفس': 98,\n",
              " 'تجربه': 99,\n",
              " 'المطاعم': 100,\n",
              " 'بكل': 101,\n",
              " 'الوقت': 102,\n",
              " 'تم': 103,\n",
              " 'ابدا': 104,\n",
              " 'اليوم': 105,\n",
              " 'يستحق': 106,\n",
              " 'عام': 107,\n",
              " 'وكانت': 108,\n",
              " 'نجوم': 109,\n",
              " 'وانا': 110,\n",
              " 'ه': 111,\n",
              " 'يعني': 112,\n",
              " 'عليها': 113,\n",
              " 'احمد': 114,\n",
              " 'فقد': 115,\n",
              " 'م': 116,\n",
              " 'خاصه': 117,\n",
              " 'فهو': 118,\n",
              " 'فيلم': 119,\n",
              " 'انني': 120,\n",
              " 'حمام': 121,\n",
              " 'مصر': 122,\n",
              " 'نظيفه': 123,\n",
              " 'قصه': 124,\n",
              " 'اجمل': 125,\n",
              " 'ايام': 126,\n",
              " 'ي': 127,\n",
              " 'سي': 128,\n",
              " 'وهذا': 129,\n",
              " 'وجود': 130,\n",
              " 'حاجه': 131,\n",
              " 'رغم': 132,\n",
              " 'فعلا': 133,\n",
              " 'لذيذ': 134,\n",
              " 'فريق': 135,\n",
              " 'دايما': 136,\n",
              " 'عادي': 137,\n",
              " 'بصراحه': 138,\n",
              " 'الاحداث': 139,\n",
              " 'حد': 140,\n",
              " 'مستوي': 141,\n",
              " 'وهي': 142,\n",
              " 'للاسف': 143,\n",
              " 'ده': 144,\n",
              " 'اعتقد': 145,\n",
              " 'ربما': 146,\n",
              " 'العاملين': 147,\n",
              " 'الموقع': 148,\n",
              " 'عمل': 149,\n",
              " 'لانه': 150,\n",
              " 'يتم': 151,\n",
              " 'يجب': 152,\n",
              " 'المدينه': 153,\n",
              " 'كثير': 154,\n",
              " 'والله': 155,\n",
              " 'الان': 156,\n",
              " 'القصه': 157,\n",
              " 'انت': 158,\n",
              " 'النهايه': 159,\n",
              " 'نظيف': 160,\n",
              " 'ل': 161,\n",
              " 'البحر': 162,\n",
              " 'بدون': 163,\n",
              " 'لمده': 164,\n",
              " 'الاولي': 165,\n",
              " 'الامر': 166,\n",
              " 'بهذا': 167,\n",
              " 'انهم': 168,\n",
              " 'بسبب': 169,\n",
              " 'بان': 170,\n",
              " 'اسلوب': 171,\n",
              " 'الاقامه': 172,\n",
              " 'شخص': 173,\n",
              " 'انك': 174,\n",
              " 'يقع': 175,\n",
              " 'كنا': 176,\n",
              " 'الاول': 177,\n",
              " 'قريب': 178,\n",
              " 'الفنادق': 179,\n",
              " 'اقل': 180,\n",
              " 'الموظفين': 181,\n",
              " 'محرز': 182,\n",
              " 'عندهم': 183,\n",
              " 'العالم': 184,\n",
              " 'سيء': 185,\n",
              " 'الساعه': 186,\n",
              " 'وليس': 187,\n",
              " 'منطقه': 188,\n",
              " 'السعر': 189,\n",
              " 'حول': 190,\n",
              " 'حقا': 191,\n",
              " 'غرف': 192,\n",
              " 'صغير': 193,\n",
              " 'كانوا': 194,\n",
              " 'النظافه': 195,\n",
              " 'تكن': 196,\n",
              " 'ال': 197,\n",
              " 'صغيره': 198,\n",
              " 'اليه': 199,\n",
              " 'الاطلاق': 200,\n",
              " 'ريال': 201,\n",
              " 'حلو': 202,\n",
              " 'شكرا': 203,\n",
              " 'تماما': 204,\n",
              " 'رحله': 205,\n",
              " 'ف': 206,\n",
              " 'لكل': 207,\n",
              " 'نفسه': 208,\n",
              " 'الحياه': 209,\n",
              " 'جديد': 210,\n",
              " 'والخدمه': 211,\n",
              " 'ساعه': 212,\n",
              " 'الاسعار': 213,\n",
              " 'وكل': 214,\n",
              " 'دي': 215,\n",
              " 'وعلي': 216,\n",
              " 'فكره': 217,\n",
              " 'وسط': 218,\n",
              " 'توجد': 219,\n",
              " 'الوحيد': 220,\n",
              " 'اقمت': 221,\n",
              " 'العربيه': 222,\n",
              " 'محمد': 223,\n",
              " 'ع': 224,\n",
              " 'قرات': 225,\n",
              " 'يمكنك': 226,\n",
              " 'عدم': 227,\n",
              " 'جيدا': 228,\n",
              " 'كثيره': 229,\n",
              " 'الحمام': 230,\n",
              " 'بالاضافه': 231,\n",
              " 'دقايق': 232,\n",
              " 'العديد': 233,\n",
              " 'دبي': 234,\n",
              " 'ممكن': 235,\n",
              " 'شخصيه': 236,\n",
              " 'يقدم': 237,\n",
              " 'وكذلك': 238,\n",
              " 'مميز': 239,\n",
              " 'مناسب': 240,\n",
              " 'مقابل': 241,\n",
              " 'الوصول': 242,\n",
              " 'وجبه': 243,\n",
              " 'ام': 244,\n",
              " 'الاخري': 245,\n",
              " 'داخل': 246,\n",
              " 'طاقم': 247,\n",
              " 'الرايع': 248,\n",
              " 'والتي': 249,\n",
              " 'اكبر': 250,\n",
              " 'روعه': 251,\n",
              " 'العام': 252,\n",
              " 'تقريبا': 253,\n",
              " 'نهايه': 254,\n",
              " 'احسن': 255,\n",
              " 'هه': 256,\n",
              " 'اتمني': 257,\n",
              " 'اقول': 258,\n",
              " 'الشاطي': 259,\n",
              " 'عشان': 260,\n",
              " 'فتره': 261,\n",
              " 'اسوا': 262,\n",
              " 'اننا': 263,\n",
              " 'اعجبني': 264,\n",
              " 'اقامه': 265,\n",
              " 'بالفعل': 266,\n",
              " 'قيمه': 267,\n",
              " 'مدينه': 268,\n",
              " 'احب': 269,\n",
              " 'راي': 270,\n",
              " 'لطيف': 271,\n",
              " 'يعجبني': 272,\n",
              " 'ولكنه': 273,\n",
              " 'مشكله': 274,\n",
              " 'الجميع': 275,\n",
              " 'قراءه': 276,\n",
              " 'كتير': 277,\n",
              " 'لهذا': 278,\n",
              " 'وغير': 279,\n",
              " 'اثناء': 280,\n",
              " 'زي': 281,\n",
              " 'اجل': 282,\n",
              " 'مجموعه': 283,\n",
              " 'بالفندق': 284,\n",
              " 'بطريقه': 285,\n",
              " 'طعم': 286,\n",
              " 'ت': 287,\n",
              " 'بدايه': 288,\n",
              " 'طريق': 289,\n",
              " 'ايه': 290,\n",
              " 'خصوصا': 291,\n",
              " 'عباره': 292,\n",
              " 'اجد': 293,\n",
              " 'القراءه': 294,\n",
              " 'الكتب': 295,\n",
              " 'عنه': 296,\n",
              " 'فرع': 297,\n",
              " 'الحقيقه': 298,\n",
              " 'بلا': 299,\n",
              " 'لكنه': 300,\n",
              " 'يعمل': 301,\n",
              " 'سوي': 302,\n",
              " 'امام': 303,\n",
              " 'يبدو': 304,\n",
              " 'الجزاير': 305,\n",
              " 'كده': 306,\n",
              " 'فوق': 307,\n",
              " 'اقرا': 308,\n",
              " 'حلوه': 309,\n",
              " 'بالتاكيد': 310,\n",
              " 'النزلاء': 311,\n",
              " 'كلها': 312,\n",
              " 'لذا': 313,\n",
              " 'منهم': 314,\n",
              " 'وخاصه': 315,\n",
              " 'اكتر': 316,\n",
              " 'قال': 317,\n",
              " 'لدي': 318,\n",
              " 'الحب': 319,\n",
              " 'الاخر': 320,\n",
              " 'دقيقه': 321,\n",
              " 'ربي': 322,\n",
              " 'الافضل': 323,\n",
              " 'لماذا': 324,\n",
              " 'تستحق': 325,\n",
              " 'طريقه': 326,\n",
              " 'طبعا': 327,\n",
              " 'فهي': 328,\n",
              " 'عده': 329,\n",
              " 'حياتي': 330,\n",
              " 'الرغم': 331,\n",
              " 'نفسي': 332,\n",
              " 'طلبت': 333,\n",
              " 'الانترنت': 334,\n",
              " 'المياه': 335,\n",
              " 'الثاني': 336,\n",
              " 'لذلك': 337,\n",
              " 'مطاعم': 338,\n",
              " 'تحت': 339,\n",
              " 'مريحه': 340,\n",
              " 'لديهم': 341,\n",
              " 'طوال': 342,\n",
              " 'خاص': 343,\n",
              " 'مرات': 344,\n",
              " 'بن': 345,\n",
              " 'نوعا': 346,\n",
              " 'فان': 347,\n",
              " 'ممتعه': 348,\n",
              " 'عاديه': 349,\n",
              " 'بعيد': 350,\n",
              " 'المستوي': 351,\n",
              " 'المره': 352,\n",
              " 'بالقرب': 353,\n",
              " 'فنادق': 354,\n",
              " 'اروع': 355,\n",
              " 'الرايعه': 356,\n",
              " 'زياره': 357,\n",
              " 'عنها': 358,\n",
              " 'مو': 359,\n",
              " 'حياه': 360,\n",
              " 'الشخصيات': 361,\n",
              " 'لمن': 362,\n",
              " 'الاماكن': 363,\n",
              " 'ليله': 364,\n",
              " 'مجرد': 365,\n",
              " 'اكل': 366,\n",
              " 'واسعه': 367,\n",
              " 'تغير': 368,\n",
              " 'علينا': 369,\n",
              " 'ومع': 370,\n",
              " 'استمتعت': 371,\n",
              " 'الدجاج': 372,\n",
              " 'بجد': 373,\n",
              " 'اوصي': 374,\n",
              " 'جديده': 375,\n",
              " 'حفيظ': 376,\n",
              " 'وخدمه': 377,\n",
              " 'وجدت': 378,\n",
              " 'الخاصه': 379,\n",
              " 'وايضا': 380,\n",
              " 'اللغه': 381,\n",
              " 'الشيء': 382,\n",
              " 'د': 383,\n",
              " 'كتب': 384,\n",
              " 'يوسف': 385,\n",
              " 'كله': 386,\n",
              " 'عاليه': 387,\n",
              " 'شهر': 388,\n",
              " 'طعام': 389,\n",
              " 'مباشره': 390,\n",
              " 'اري': 391,\n",
              " 'احداث': 392,\n",
              " 'الزياره': 393,\n",
              " 'التجربه': 394,\n",
              " 'ولكنها': 395,\n",
              " 'تقديم': 396,\n",
              " 'الحجز': 397,\n",
              " 'الشعب': 398,\n",
              " 'شعرت': 399,\n",
              " 'كلام': 400,\n",
              " 'الليل': 401,\n",
              " 'لدرجه': 402,\n",
              " 'قليلا': 403,\n",
              " 'حسن': 404,\n",
              " 'البدايه': 405,\n",
              " 'احلي': 406,\n",
              " 'بكثير': 407,\n",
              " 'شيا': 408,\n",
              " 'الثانيه': 409,\n",
              " 'تشعر': 410,\n",
              " 'اشعر': 411,\n",
              " 'معه': 412,\n",
              " 'ك': 413,\n",
              " 'شارع': 414,\n",
              " 'تجد': 415,\n",
              " 'صراحه': 416,\n",
              " 'وحتي': 417,\n",
              " 'سنه': 418,\n",
              " 'ابو': 419,\n",
              " 'اوي': 420,\n",
              " 'ن': 421,\n",
              " 'الطلب': 422,\n",
              " 'هادي': 423,\n",
              " 'حوالي': 424,\n",
              " 'الطعم': 425,\n",
              " 'اعرف': 426,\n",
              " 'مناسبه': 427,\n",
              " 'ناحيه': 428,\n",
              " 'وصف': 429,\n",
              " 'سعر': 430,\n",
              " 'انواع': 431,\n",
              " 'حاله': 432,\n",
              " 'الدخول': 433,\n",
              " 'يقول': 434,\n",
              " 'الخدمات': 435,\n",
              " 'عبر': 436,\n",
              " 'السرير': 437,\n",
              " 'المنطقه': 438,\n",
              " 'التعامل': 439,\n",
              " 'محطه': 440,\n",
              " 'عطله': 441,\n",
              " 'زيدان': 442,\n",
              " 'نوع': 443,\n",
              " 'المشكله': 444,\n",
              " 'الخاص': 445,\n",
              " 'الجميله': 446,\n",
              " 'امر': 447,\n",
              " 'الجزء': 448,\n",
              " 'ممتع': 449,\n",
              " 'مريح': 450,\n",
              " 'صفحه': 451,\n",
              " 'بالرغم': 452,\n",
              " 'يعتبر': 453,\n",
              " 'جوده': 454,\n",
              " 'عبد': 455,\n",
              " 'العشاء': 456,\n",
              " 'المصري': 457,\n",
              " 'وبعد': 458,\n",
              " 'المصريه': 459,\n",
              " 'تعجبني': 460,\n",
              " 'بسيط': 461,\n",
              " 'دجاج': 462,\n",
              " 'المنتجع': 463,\n",
              " 'محمود': 464,\n",
              " 'رايحه': 465,\n",
              " 'الوجبات': 466,\n",
              " 'معظم': 467,\n",
              " 'المراه': 468,\n",
              " 'العرب': 469,\n",
              " 'وانصح': 470,\n",
              " 'الاطفال': 471,\n",
              " 'ودود': 472,\n",
              " 'دور': 473,\n",
              " 'مميزه': 474,\n",
              " 'الاسلوب': 475,\n",
              " 'مختلفه': 476,\n",
              " 'لذيذه': 477,\n",
              " 'الوحيده': 478,\n",
              " 'شاء': 479,\n",
              " 'النوم': 480,\n",
              " 'قمت': 481,\n",
              " 'الرياض': 482,\n",
              " 'خارج': 483,\n",
              " 'الشيخ': 484,\n",
              " 'الانسان': 485,\n",
              " 'وهناك': 486,\n",
              " 'غايه': 487,\n",
              " 'وجهه': 488,\n",
              " 'معني': 489,\n",
              " 'مقارنه': 490,\n",
              " 'حقيقه': 491,\n",
              " 'اداره': 492,\n",
              " 'وانت': 493,\n",
              " 'ذهبت': 494,\n",
              " 'الذهاب': 495,\n",
              " 'الواقع': 496,\n",
              " 'قديم': 497,\n",
              " 'رايعا': 498,\n",
              " 'عرض': 499,\n",
              " 'الجميل': 500,\n",
              " 'وعندما': 501,\n",
              " 'الشخصيه': 502,\n",
              " 'المجتمع': 503,\n",
              " 'الارض': 504,\n",
              " 'اعلي': 505,\n",
              " 'درجه': 506,\n",
              " 'لكنها': 507,\n",
              " 'لانها': 508,\n",
              " 'بسيطه': 509,\n",
              " 'الاخيره': 510,\n",
              " 'التاريخ': 511,\n",
              " 'حال': 512,\n",
              " 'قراتها': 513,\n",
              " 'باس': 514,\n",
              " 'اولا': 515,\n",
              " 'المطار': 516,\n",
              " 'ونظيف': 517,\n",
              " 'مركز': 518,\n",
              " 'ثلاث': 519,\n",
              " 'الكلام': 520,\n",
              " 'اللحم': 521,\n",
              " 'الاقدام': 522,\n",
              " 'الدين': 523,\n",
              " 'اقمنا': 524,\n",
              " 'عدد': 525,\n",
              " 'وخصوصا': 526,\n",
              " 'اجازه': 527,\n",
              " 'مبالغ': 528,\n",
              " 'تاريخ': 529,\n",
              " 'حق': 530,\n",
              " 'مكتب': 531,\n",
              " 'عليهم': 532,\n",
              " 'الخ': 533,\n",
              " 'بوفيه': 534,\n",
              " 'خالد': 535,\n",
              " 'بشده': 536,\n",
              " 'الشارع': 537,\n",
              " 'المشاهد': 538,\n",
              " 'بانه': 539,\n",
              " 'قمه': 540,\n",
              " 'للاقامه': 541,\n",
              " 'احببت': 542,\n",
              " 'يريد': 543,\n",
              " 'خفيف': 544,\n",
              " 'الطابق': 545,\n",
              " 'الموظفون': 546,\n",
              " 'الاطباق': 547,\n",
              " 'الاشياء': 548,\n",
              " 'للاطفال': 549,\n",
              " 'الطريق': 550,\n",
              " 'حب': 551,\n",
              " 'كامل': 552,\n",
              " 'ليستر': 553,\n",
              " 'المال': 554,\n",
              " 'اللهم': 555,\n",
              " 'ر': 556,\n",
              " 'لغه': 557,\n",
              " 'قام': 558,\n",
              " 'وصلت': 559,\n",
              " 'العربي': 560,\n",
              " 'باي': 561,\n",
              " 'القهوه': 562,\n",
              " 'ثانيه': 563,\n",
              " 'لاي': 564,\n",
              " 'والاكل': 565,\n",
              " 'تعمل': 566,\n",
              " 'عنده': 567,\n",
              " 'نظافه': 568,\n",
              " 'طويله': 569,\n",
              " 'يحتاج': 570,\n",
              " 'المدير': 571,\n",
              " 'اماكن': 572,\n",
              " 'احلام': 573,\n",
              " 'الريسي': 574,\n",
              " 'افلام': 575,\n",
              " 'قليله': 576,\n",
              " 'جربت': 577,\n",
              " 'منتجع': 578,\n",
              " 'جزء': 579,\n",
              " 'جو': 580,\n",
              " 'اعلم': 581,\n",
              " 'سباحه': 582,\n",
              " 'لاني': 583,\n",
              " 'والغرف': 584,\n",
              " 'اسم': 585,\n",
              " 'كلمه': 586,\n",
              " 'فاي': 587,\n",
              " 'سنوات': 588,\n",
              " 'ويوجد': 589,\n",
              " 'نظري': 590,\n",
              " 'عليكم': 591,\n",
              " 'ايض': 592,\n",
              " 'ولكني': 593,\n",
              " 'اسمه': 594,\n",
              " 'الافلام': 595,\n",
              " 'تحتاج': 596,\n",
              " 'الجو': 597,\n",
              " 'ولن': 598,\n",
              " 'لازم': 599,\n",
              " 'سبب': 600,\n",
              " 'لاعب': 601,\n",
              " 'لحم': 602,\n",
              " 'والطعام': 603,\n",
              " 'الماء': 604,\n",
              " 'استطيع': 605,\n",
              " 'السعوديه': 606,\n",
              " 'الكلمه': 607,\n",
              " 'مول': 608,\n",
              " 'الموجوده': 609,\n",
              " 'سواء': 610,\n",
              " 'قسم': 611,\n",
              " 'احيانا': 612,\n",
              " 'وكنت': 613,\n",
              " 'الروايات': 614,\n",
              " 'رجل': 615,\n",
              " 'طلبنا': 616,\n",
              " 'مسافه': 617,\n",
              " 'امل': 618,\n",
              " 'مصطفي': 619,\n",
              " 'تستطيع': 620,\n",
              " 'ادري': 621,\n",
              " 'لطيفه': 622,\n",
              " 'الاقل': 623,\n",
              " 'عموما': 624,\n",
              " 'الفكره': 625,\n",
              " 'البعض': 626,\n",
              " 'خير': 627,\n",
              " 'الكاتبه': 628,\n",
              " 'سريعه': 629,\n",
              " 'طلب': 630,\n",
              " 'القاهره': 631,\n",
              " 'العوده': 632,\n",
              " 'نجمه': 633,\n",
              " 'عزازيل': 634,\n",
              " 'الراحه': 635,\n",
              " 'واضح': 636,\n",
              " 'ممله': 637,\n",
              " 'معقوله': 638,\n",
              " 'قراته': 639,\n",
              " 'بيتزا': 640,\n",
              " 'السبب': 641,\n",
              " 'لله': 642,\n",
              " 'اسبوع': 643,\n",
              " 'ونظيفه': 644,\n",
              " 'نفسها': 645,\n",
              " 'واذا': 646,\n",
              " 'تناول': 647,\n",
              " 'اعجبتني': 648,\n",
              " 'اهم': 649,\n",
              " 'الحصول': 650,\n",
              " 'حدث': 651,\n",
              " 'تريد': 652,\n",
              " 'اختيار': 653,\n",
              " 'بدا': 654,\n",
              " 'اقامتي': 655,\n",
              " 'اعود': 656,\n",
              " 'الاداره': 657,\n",
              " 'مرتين': 658,\n",
              " 'اضافه': 659,\n",
              " 'ماسط': 660,\n",
              " 'استطع': 661,\n",
              " 'صحيح': 662,\n",
              " 'ساعات': 663,\n",
              " 'الوصف': 664,\n",
              " 'للفندق': 665,\n",
              " 'يتميز': 666,\n",
              " 'ممل': 667,\n",
              " 'قصيره': 668,\n",
              " 'قايمه': 669,\n",
              " 'مختلف': 670,\n",
              " 'الكتابه': 671,\n",
              " 'يتحدث': 672,\n",
              " 'الكبير': 673,\n",
              " 'موظفي': 674,\n",
              " 'ليه': 675,\n",
              " 'الصباح': 676,\n",
              " 'صباح': 677,\n",
              " 'مدير': 678,\n",
              " 'مثالي': 679,\n",
              " 'خمس': 680,\n",
              " 'قلت': 681,\n",
              " 'التفاصيل': 682,\n",
              " 'اغلب': 683,\n",
              " 'استخدام': 684,\n",
              " 'الديكور': 685,\n",
              " 'اسعار': 686,\n",
              " 'الاعمال': 687,\n",
              " 'وجبات': 688,\n",
              " 'وذلك': 689,\n",
              " 'شويه': 690,\n",
              " 'راقي': 691,\n",
              " 'باختصار': 692,\n",
              " 'ثلاثه': 693,\n",
              " 'افطار': 694,\n",
              " 'القديمه': 695,\n",
              " 'الطلبات': 696,\n",
              " 'السيارات': 697,\n",
              " 'ودودين': 698,\n",
              " 'هيبا': 699,\n",
              " 'شكر': 700,\n",
              " 'الرجل': 701,\n",
              " 'ليال': 702,\n",
              " 'الاسبوع': 703,\n",
              " 'غالي': 704,\n",
              " 'معقول': 705,\n",
              " 'وفيه': 706,\n",
              " 'فلم': 707,\n",
              " 'بينما': 708,\n",
              " 'موجود': 709,\n",
              " 'عندي': 710,\n",
              " 'منا': 711,\n",
              " 'قليل': 712,\n",
              " 'الليله': 713,\n",
              " 'اين': 714,\n",
              " 'شرم': 715,\n",
              " 'موظف': 716,\n",
              " 'النظر': 717,\n",
              " 'مساء': 718,\n",
              " 'الفطور': 719,\n",
              " 'الصغيره': 720,\n",
              " 'المسلسل': 721,\n",
              " 'لكني': 722,\n",
              " 'تاني': 723,\n",
              " 'يحتوي': 724,\n",
              " 'بار': 725,\n",
              " 'غرفتي': 726,\n",
              " 'الشمس': 727,\n",
              " 'موقعه': 728,\n",
              " 'مياه': 729,\n",
              " 'حسب': 730,\n",
              " 'مجانيه': 731,\n",
              " 'طول': 732,\n",
              " 'صوره': 733,\n",
              " 'لديه': 734,\n",
              " 'قضيت': 735,\n",
              " 'اصلا': 736,\n",
              " 'يحدث': 737,\n",
              " 'شكل': 738,\n",
              " 'اشخاص': 739,\n",
              " 'مني': 740,\n",
              " 'القاري': 741,\n",
              " 'قلب': 742,\n",
              " 'بسرعه': 743,\n",
              " 'يبقي': 744,\n",
              " 'نصف': 745,\n",
              " 'راح': 746,\n",
              " 'عالم': 747,\n",
              " 'القصص': 748,\n",
              " 'المشروبات': 749,\n",
              " 'اليها': 750,\n",
              " 'اتوقع': 751,\n",
              " 'الامور': 752,\n",
              " 'والنظافه': 753,\n",
              " 'كتابه': 754,\n",
              " 'كمان': 755,\n",
              " 'سياره': 756,\n",
              " 'وصلنا': 757,\n",
              " 'انسان': 758,\n",
              " 'الشي': 759,\n",
              " 'جانب': 760,\n",
              " 'ضعيفه': 761,\n",
              " 'حجزت': 762,\n",
              " 'قذره': 763,\n",
              " 'جنيه': 764,\n",
              " 'الواحد': 765,\n",
              " 'شوي': 766,\n",
              " 'ناس': 767,\n",
              " 'الم': 768,\n",
              " 'بهذه': 769,\n",
              " 'يقوم': 770,\n",
              " 'غرفتنا': 771,\n",
              " 'مثلا': 772,\n",
              " 'العايله': 773,\n",
              " 'وحده': 774,\n",
              " 'وضع': 775,\n",
              " 'يكفي': 776,\n",
              " 'البطل': 777,\n",
              " 'مسلسل': 778,\n",
              " 'لقضاء': 779,\n",
              " 'الدور': 780,\n",
              " 'وهم': 781,\n",
              " 'الهواء': 782,\n",
              " 'اخذ': 783,\n",
              " 'تسجيل': 784,\n",
              " 'المسبح': 785,\n",
              " 'موقف': 786,\n",
              " 'سير': 787,\n",
              " 'الخارج': 788,\n",
              " 'وجميل': 789,\n",
              " 'بدات': 790,\n",
              " 'باسلوب': 791,\n",
              " 'حمامات': 792,\n",
              " 'تونس': 793,\n",
              " 'بنفس': 794,\n",
              " 'جميعا': 795,\n",
              " 'الايام': 796,\n",
              " 'الشباب': 797,\n",
              " 'مراد': 798,\n",
              " 'الاسلام': 799,\n",
              " 'تطل': 800,\n",
              " 'يعرف': 801,\n",
              " 'تقدم': 802,\n",
              " 'الماضي': 803,\n",
              " 'خدمات': 804,\n",
              " 'الرحله': 805,\n",
              " 'الريسيه': 806,\n",
              " 'السينما': 807,\n",
              " 'مقالات': 808,\n",
              " 'قوي': 809,\n",
              " 'الافكار': 810,\n",
              " 'الصور': 811,\n",
              " 'اقرب': 812,\n",
              " 'واكثر': 813,\n",
              " 'الادب': 814,\n",
              " 'المولف': 815,\n",
              " 'تري': 816,\n",
              " 'تقول': 817,\n",
              " 'وعدم': 818,\n",
              " 'السيد': 819,\n",
              " 'متميز': 820,\n",
              " 'وبعض': 821,\n",
              " 'دولار': 822,\n",
              " 'السلام': 823,\n",
              " 'الجوده': 824,\n",
              " 'بعيدا': 825,\n",
              " 'وجه': 826,\n",
              " 'قديمه': 827,\n",
              " 'النوع': 828,\n",
              " 'رقم': 829,\n",
              " 'باقي': 830,\n",
              " 'مجاني': 831,\n",
              " 'ذكر': 832,\n",
              " 'البلد': 833,\n",
              " 'جمال': 834,\n",
              " 'جاء': 835,\n",
              " 'اسوء': 836,\n",
              " 'زرت': 837,\n",
              " 'بارد': 838,\n",
              " 'باب': 839,\n",
              " 'الشاطيء': 840,\n",
              " 'مليون': 841,\n",
              " 'قصص': 842,\n",
              " 'غريب': 843,\n",
              " 'دايم': 844,\n",
              " 'اقامتنا': 845,\n",
              " 'المخرج': 846,\n",
              " 'اسعاره': 847,\n",
              " 'برجر': 848,\n",
              " 'الجانب': 849,\n",
              " 'معها': 850,\n",
              " 'الاشخاص': 851,\n",
              " 'حوض': 852,\n",
              " 'الدنيا': 853,\n",
              " 'اردت': 854,\n",
              " 'صباحا': 855,\n",
              " 'الممكن': 856,\n",
              " 'الباب': 857,\n",
              " 'اصبح': 858,\n",
              " 'الصغير': 859,\n",
              " 'والي': 860,\n",
              " 'البيتزا': 861,\n",
              " 'الثوره': 862,\n",
              " 'نفسك': 863,\n",
              " 'الفتره': 864,\n",
              " 'اطلاله': 865,\n",
              " 'الاخير': 866,\n",
              " 'البار': 867,\n",
              " 'تقيم': 868,\n",
              " 'عجبني': 869,\n",
              " 'الكل': 870,\n",
              " 'تقيمي': 871,\n",
              " 'اريد': 872,\n",
              " 'السرد': 873,\n",
              " 'وسايل': 874,\n",
              " 'الموضوع': 875,\n",
              " 'برافو': 876,\n",
              " 'هاديه': 877,\n",
              " 'منظر': 878,\n",
              " 'الملل': 879,\n",
              " 'واتمني': 880,\n",
              " 'الحديث': 881,\n",
              " 'الروعه': 882,\n",
              " 'حجز': 883,\n",
              " 'ببساطه': 884,\n",
              " 'الكبيره': 885,\n",
              " 'واي': 886,\n",
              " 'مشاكل': 887,\n",
              " 'الاحيان': 888,\n",
              " 'الشديد': 889,\n",
              " 'كريم': 890,\n",
              " 'الاخرين': 891,\n",
              " 'العلم': 892,\n",
              " 'ومريحه': 893,\n",
              " 'اظن': 894,\n",
              " 'عامه': 895,\n",
              " 'ونحن': 896,\n",
              " 'محاوله': 897,\n",
              " 'بجانب': 898,\n",
              " 'اكله': 899,\n",
              " 'الجيد': 900,\n",
              " 'مشاهده': 901,\n",
              " 'عيد': 902,\n",
              " 'ضمن': 903,\n",
              " 'الانجليزيه': 904,\n",
              " 'ويمكن': 905,\n",
              " 'الغير': 906,\n",
              " 'مرتفعه': 907,\n",
              " 'الاخوان': 908,\n",
              " 'وكيف': 909,\n",
              " 'لايوجد': 910,\n",
              " 'قمنا': 911,\n",
              " 'شاطي': 912,\n",
              " 'تفاصيل': 913,\n",
              " 'طبق': 914,\n",
              " 'النفس': 915,\n",
              " 'سوق': 916,\n",
              " 'مشهد': 917,\n",
              " 'سعره': 918,\n",
              " 'معهم': 919,\n",
              " 'الوطن': 920,\n",
              " 'ضعيف': 921,\n",
              " 'وبين': 922,\n",
              " 'اكن': 923,\n",
              " 'كويس': 924,\n",
              " 'دا': 925,\n",
              " 'بحاجه': 926,\n",
              " 'مساحه': 927,\n",
              " 'البوفيه': 928,\n",
              " 'الجديد': 929,\n",
              " 'سيكون': 930,\n",
              " 'البرجر': 931,\n",
              " 'واللي': 932,\n",
              " 'الموجود': 933,\n",
              " 'وقريب': 934,\n",
              " 'اداء': 935,\n",
              " 'لبعض': 936,\n",
              " 'تمام': 937,\n",
              " 'يكتب': 938,\n",
              " 'الموسيقي': 939,\n",
              " 'واعتقد': 940,\n",
              " 'والمطاعم': 941,\n",
              " 'حسيت': 942,\n",
              " 'مشاهد': 943,\n",
              " 'بذلك': 944,\n",
              " 'اسلوبه': 945,\n",
              " 'كره': 946,\n",
              " 'فهم': 947,\n",
              " 'رخيص': 948,\n",
              " 'بزياره': 949,\n",
              " 'طيب': 950,\n",
              " 'ضد': 951,\n",
              " 'الحق': 952,\n",
              " 'سرير': 953,\n",
              " 'بيه': 954,\n",
              " 'المطبخ': 955,\n",
              " 'مواقف': 956,\n",
              " 'موجوده': 957,\n",
              " 'الانتظار': 958,\n",
              " 'روح': 959,\n",
              " 'يبعد': 960,\n",
              " 'الضيافه': 961,\n",
              " 'عربي': 962,\n",
              " 'ق': 963,\n",
              " 'ياتي': 964,\n",
              " 'جده': 965,\n",
              " 'اكون': 966,\n",
              " 'لتناول': 967,\n",
              " 'وشكرا': 968,\n",
              " 'البحريه': 969,\n",
              " 'صوت': 970,\n",
              " 'الف': 971,\n",
              " 'كامله': 972,\n",
              " 'اود': 973,\n",
              " 'القادمه': 974,\n",
              " 'الخروج': 975,\n",
              " 'تعامل': 976,\n",
              " 'المصرين': 977,\n",
              " 'لدينا': 978,\n",
              " 'رمضان': 979,\n",
              " 'شخصيات': 980,\n",
              " 'الخبز': 981,\n",
              " 'متنوعه': 982,\n",
              " 'بيت': 983,\n",
              " 'اشياء': 984,\n",
              " 'السفر': 985,\n",
              " 'لابد': 986,\n",
              " 'شديد': 987,\n",
              " 'الجيده': 988,\n",
              " 'مافيه': 989,\n",
              " 'قريبه': 990,\n",
              " 'احدي': 991,\n",
              " 'حديقه': 992,\n",
              " 'سيارات': 993,\n",
              " 'اذهب': 994,\n",
              " 'اشكر': 995,\n",
              " 'جعل': 996,\n",
              " 'ثاني': 997,\n",
              " 'حجم': 998,\n",
              " 'الدكتور': 999,\n",
              " 'اطفال': 1000,\n",
              " ...}"
            ]
          },
          "metadata": {},
          "execution_count": 17
        }
      ]
    },
    {
      "cell_type": "markdown",
      "metadata": {
        "id": "sr8q2nUbLYTW"
      },
      "source": [
        "## Application of AraVec"
      ]
    },
    {
      "cell_type": "code",
      "metadata": {
        "colab": {
          "base_uri": "https://localhost:8080/"
        },
        "id": "_Hsh0TlOHr0C",
        "outputId": "a408b9ca-ff70-4895-97d6-92bab6fd070b"
      },
      "source": [
        "unique_words = len(word_index)\n",
        "total_words = unique_words+1\n",
        "skipped_words = 0\n",
        "embedding_dim = 300  \n",
        "embedding_matrix = np.zeros((total_words, embedding_dim))\n",
        "for word, index in tokenizer.word_index.items():\n",
        "  try:\n",
        "        embedding_vector = model[word]\n",
        "  except:\n",
        "    skipped_words = skipped_words+1\n",
        "    pass\n",
        "  if embedding_vector is not None:\n",
        "    embedding_matrix[index] = embedding_vector\n",
        "print(\"Embeddings Matrix shape : \",embedding_matrix.shape)"
      ],
      "execution_count": 17,
      "outputs": [
        {
          "output_type": "stream",
          "text": [
            "/usr/local/lib/python3.7/dist-packages/ipykernel_launcher.py:8: DeprecationWarning: Call to deprecated `__getitem__` (Method will be removed in 4.0.0, use self.wv.__getitem__() instead).\n",
            "  \n"
          ],
          "name": "stderr"
        },
        {
          "output_type": "stream",
          "text": [
            "Embeddings Matrix shape :  (142151, 300)\n"
          ],
          "name": "stdout"
        }
      ]
    },
    {
      "cell_type": "markdown",
      "metadata": {
        "id": "sJLrLRJnEUk9"
      },
      "source": [
        "## Test\n"
      ]
    },
    {
      "cell_type": "code",
      "metadata": {
        "colab": {
          "base_uri": "https://localhost:8080/"
        },
        "id": "2OEr871xETqY",
        "outputId": "5425f175-5205-4a44-9c89-273b0f5d7306"
      },
      "source": [
        "embedding_matrix[1000]-model.wv['والمطاعم']"
      ],
      "execution_count": null,
      "outputs": [
        {
          "output_type": "execute_result",
          "data": {
            "text/plain": [
              "array([ 1.4451102 ,  2.43636164,  2.7078833 ,  0.80040622,  0.70593694,\n",
              "       -0.9804759 ,  0.28274806,  1.36552814, -1.11830908, -0.26506913,\n",
              "        0.2685877 , -0.53906268,  1.47861022,  1.64139131, -0.46443833,\n",
              "       -0.55000281, -0.92765272,  1.60251027, -0.7856926 ,  0.8073954 ,\n",
              "        0.78108382,  1.37492852, -2.10157359,  1.01972157,  0.48168516,\n",
              "       -1.21040463, -1.4243173 ,  0.14113954,  1.78154409,  0.76694822,\n",
              "        0.37386176, -2.37623736,  0.92963668,  1.1878743 ,  0.58442879,\n",
              "       -4.57547975, -0.84607837,  1.75921652,  0.46158278, -2.66065383,\n",
              "       -0.07104796,  0.21865749, -2.38925624, -2.00417912, -0.18867189,\n",
              "        1.03467466, -0.49496308, -1.80021676, -0.43717992,  1.05918795,\n",
              "        1.13273394,  0.67350367, -1.12196538, -0.36412835, -2.65963024,\n",
              "       -1.21907905, -0.80381556, -0.03517503,  1.20105395,  0.36689755,\n",
              "       -0.10926723,  0.55148289,  1.45575979,  0.07953942, -1.53324923,\n",
              "        0.68875635, -0.65055582,  3.50224757,  0.3641463 ,  2.21371749,\n",
              "       -1.82469262, -2.1559236 , -1.06633435, -0.95686513, -0.11351055,\n",
              "       -1.11762112, -2.26304051,  0.81752625,  2.24860384,  0.35658151,\n",
              "       -0.57817995,  0.43572485,  1.65439498,  0.02624208,  1.19903952,\n",
              "        1.8954905 , -2.04548162,  0.58217477,  0.34602112,  1.40488786,\n",
              "       -1.15177581, -1.61571455, -1.54055893, -0.0114426 , -0.98299146,\n",
              "       -0.10089257, -0.57311186, -1.03483832, -1.73462129, -1.29398   ,\n",
              "       -0.34742212,  2.64659964,  0.80275238, -1.00313342,  0.67862439,\n",
              "        1.95235223,  0.79900301,  0.47496083, -0.51211485, -1.93832205,\n",
              "       -1.7493118 ,  0.72304404, -0.70155546, -1.20230284, -0.30364931,\n",
              "       -0.49444368,  2.03202766, -2.04826212, -2.85367852, -0.25728273,\n",
              "       -0.13629055, -0.96062153, -0.29100335, -1.64642853, -0.6063396 ,\n",
              "        0.69627582,  1.07732433,  0.44541115,  2.60294011, -1.43206602,\n",
              "        3.13230002, -0.45149507, -0.61249727, -1.74587643,  0.64173135,\n",
              "       -0.25690736, -0.14911839,  0.43584973,  2.2832005 ,  2.10496521,\n",
              "       -1.845855  , -0.96460611, -0.01428786,  0.58637368, -0.33894351,\n",
              "       -1.20248443,  0.05711268,  1.58089596, -0.04004896,  1.4299241 ,\n",
              "       -1.14505842, -1.02517172,  1.25832094,  1.97905904,  0.21286127,\n",
              "        0.71553556, -0.37168898, -0.80572255, -0.4072191 , -0.10461831,\n",
              "        2.13222009,  0.91396059,  3.49352726,  1.45110187,  0.31490672,\n",
              "        0.73616497,  1.13881457,  0.67580038, -3.94463015,  1.08293426,\n",
              "        1.2744965 ,  0.08283405,  0.66013035,  1.93831402,  0.18973789,\n",
              "        0.46407056, -0.27984238,  0.15189457,  0.32723796,  0.03713158,\n",
              "        1.8548559 , -0.61283004, -0.74785842, -1.95804501,  1.89124519,\n",
              "       -0.11938214, -1.66984206, -0.00952131, -1.90051019,  0.15344876,\n",
              "        0.58885032,  0.6200783 , -0.46320556, -2.79037619, -3.21020818,\n",
              "        2.5277078 , -1.72162589, -0.80610418,  0.19985151, -0.82192451,\n",
              "        0.43543499, -1.75141153, -2.10893959, -2.34899653,  0.84351838,\n",
              "        1.48652458, -0.89930895,  1.04890952,  0.08186376, -2.35576569,\n",
              "        1.38312523,  1.67168039,  0.73105872, -0.05654202,  1.3086679 ,\n",
              "       -0.10270005, -0.5710147 , -1.32926583, -0.5587557 ,  0.53060997,\n",
              "        1.12769982,  0.66281177,  0.57167215,  0.60928798,  0.22197384,\n",
              "        0.39175702, -1.51996714, -1.00576511,  1.27564698, -0.527283  ,\n",
              "       -0.61028659, -1.34079349,  0.6828492 , -1.21848796,  1.68192345,\n",
              "       -1.74628496,  0.94882104,  0.59431551,  0.18183847,  0.86851096,\n",
              "       -0.49320576, -1.12226388,  0.50071222, -0.19600114,  0.53057146,\n",
              "        0.37215936,  0.10638613,  0.88999751,  0.50251845,  0.27421999,\n",
              "       -1.2108265 ,  0.80818094, -1.55646729,  0.01962137, -0.27165967,\n",
              "       -1.33377296,  1.50634441,  0.2308135 ,  1.39062566,  3.31981854,\n",
              "        1.69235545, -0.35045004, -1.23123103, -2.38724907, -1.06608093,\n",
              "        0.74807978,  0.01574343, -1.11087745,  0.24055472, -0.00459984,\n",
              "        0.02683061,  1.27923478, -0.16736972, -0.8158896 ,  0.39566988,\n",
              "       -1.34832895, -1.15767032, -0.11831224, -2.22848308,  0.88886493,\n",
              "       -0.17144942, -1.01036658,  0.65640476,  1.47705844,  1.38256252,\n",
              "        2.78689933,  2.29842621,  3.48037231, -3.56585884, -2.37175119,\n",
              "       -1.5480763 , -0.82111904, -1.03259887, -1.73689473,  1.80865431,\n",
              "        0.95540987,  1.33368433, -2.016453  , -1.48213017, -1.0227567 ])"
            ]
          },
          "metadata": {},
          "execution_count": 19
        }
      ]
    },
    {
      "cell_type": "code",
      "metadata": {
        "id": "LSgSgB7zcJbk"
      },
      "source": [
        "from tensorflow.keras.layers import *\n",
        "# create the embedding layer\n",
        "embedding_layer = Embedding(total_words, embedding_dim, weights=[embedding_matrix], input_length=max_length)"
      ],
      "execution_count": 18,
      "outputs": []
    },
    {
      "cell_type": "code",
      "metadata": {
        "id": "ts9kZGCQce_3"
      },
      "source": [
        "from tensorflow.keras.layers import Embedding, LSTM,Conv1D,GlobalMaxPooling1D, MaxPooling1D,Dense,Bidirectional,Flatten## Neural networks layers \n",
        "from tensorflow.keras.models import Sequential"
      ],
      "execution_count": 19,
      "outputs": []
    },
    {
      "cell_type": "code",
      "metadata": {
        "id": "dJB-YViecglo",
        "colab": {
          "base_uri": "https://localhost:8080/"
        },
        "outputId": "2cc6a95d-7727-40fb-f800-7f5ef9cf7043"
      },
      "source": [
        "\n",
        "from tensorflow import keras\n",
        "from tensorflow.keras import regularizers\n",
        "import tensorflow as tf\n",
        "from tensorflow import keras\n",
        "from tensorflow.keras.optimizers import SGD,RMSprop\n",
        "opt = RMSprop(lr=0.001)\n"
      ],
      "execution_count": 20,
      "outputs": [
        {
          "output_type": "stream",
          "text": [
            "/usr/local/lib/python3.7/dist-packages/keras/optimizer_v2/optimizer_v2.py:356: UserWarning: The `lr` argument is deprecated, use `learning_rate` instead.\n",
            "  \"The `lr` argument is deprecated, use `learning_rate` instead.\")\n"
          ],
          "name": "stderr"
        }
      ]
    },
    {
      "cell_type": "markdown",
      "metadata": {
        "id": "yNmoQRbELxWe"
      },
      "source": [
        "## Model"
      ]
    },
    {
      "cell_type": "code",
      "metadata": {
        "colab": {
          "base_uri": "https://localhost:8080/"
        },
        "id": "lfFt3STYcnSm",
        "outputId": "59f18530-e06e-4367-bb6f-2f5f5a9f49de"
      },
      "source": [
        "model2=Sequential()\n",
        "model2.add(embedding_layer ) \n",
        "\n",
        "model2.add(Bidirectional( LSTM(units=256,return_sequences=True)))\n",
        "model2.add(Dropout(0.3))\n",
        "model2.add(Flatten())\n",
        "model2.add(Dense(400, activation='relu'))\n",
        "model2.add(Dropout(0.2))\n",
        "#Output  Layer\n",
        "model2.add(Dense(1, activation='sigmoid')) \n",
        "\n",
        "\n",
        "model2.compile(optimizer=opt, loss='binary_crossentropy', metrics=['accuracy'])\n",
        "\n",
        "print(model2.summary())\n"
      ],
      "execution_count": 69,
      "outputs": [
        {
          "output_type": "stream",
          "text": [
            "Model: \"sequential_1\"\n",
            "_________________________________________________________________\n",
            "Layer (type)                 Output Shape              Param #   \n",
            "=================================================================\n",
            "embedding (Embedding)        (None, 279, 300)          42645300  \n",
            "_________________________________________________________________\n",
            "bidirectional_1 (Bidirection (None, 279, 512)          1140736   \n",
            "_________________________________________________________________\n",
            "dropout_2 (Dropout)          (None, 279, 512)          0         \n",
            "_________________________________________________________________\n",
            "flatten_1 (Flatten)          (None, 142848)            0         \n",
            "_________________________________________________________________\n",
            "dense_2 (Dense)              (None, 400)               57139600  \n",
            "_________________________________________________________________\n",
            "dropout_3 (Dropout)          (None, 400)               0         \n",
            "_________________________________________________________________\n",
            "dense_3 (Dense)              (None, 1)                 401       \n",
            "=================================================================\n",
            "Total params: 100,926,037\n",
            "Trainable params: 100,926,037\n",
            "Non-trainable params: 0\n",
            "_________________________________________________________________\n",
            "None\n"
          ],
          "name": "stdout"
        }
      ]
    },
    {
      "cell_type": "code",
      "metadata": {
        "colab": {
          "base_uri": "https://localhost:8080/"
        },
        "id": "HkTGhEo_IQjT",
        "outputId": "0a61b0ea-7ec2-495c-fb1c-08cbc63dabfa"
      },
      "source": [
        "\n",
        "history=model2.fit(X_tr, y_train,validation_data=(X_tes,y_val) ,epochs=5,batch_size=128)"
      ],
      "execution_count": 22,
      "outputs": [
        {
          "output_type": "stream",
          "text": [
            "Epoch 1/5\n",
            "311/311 [==============================] - 71s 200ms/step - loss: 0.4620 - accuracy: 0.7992 - val_loss: 0.3919 - val_accuracy: 0.8233\n",
            "Epoch 2/5\n",
            "311/311 [==============================] - 61s 197ms/step - loss: 0.3005 - accuracy: 0.8718 - val_loss: 0.3727 - val_accuracy: 0.8443\n",
            "Epoch 3/5\n",
            "311/311 [==============================] - 61s 196ms/step - loss: 0.2130 - accuracy: 0.9108 - val_loss: 0.3894 - val_accuracy: 0.8464\n",
            "Epoch 4/5\n",
            "311/311 [==============================] - 61s 197ms/step - loss: 0.1520 - accuracy: 0.9378 - val_loss: 0.4943 - val_accuracy: 0.8463\n",
            "Epoch 5/5\n",
            "311/311 [==============================] - 61s 197ms/step - loss: 0.1062 - accuracy: 0.9558 - val_loss: 0.5808 - val_accuracy: 0.8395\n"
          ],
          "name": "stdout"
        }
      ]
    },
    {
      "cell_type": "code",
      "metadata": {
        "colab": {
          "base_uri": "https://localhost:8080/"
        },
        "id": "uGlLH3bx4kRR",
        "outputId": "cbac5d98-f149-4d16-fd3a-0a1803fa6ad3"
      },
      "source": [
        "\"\"\"from sklearn.metrics import classification_report\n",
        "\n",
        "yPred = model2.predict(X_tes)\n",
        "print(classification_report(y_val, yPred.argmax(axis=1)))\n",
        "\"\"\"\n",
        "from sklearn.metrics import classification_report , f1_score\n",
        "y_test= model2.predict(X_tes)\n",
        "y_test= np.round(y_test, 0)\n",
        "\n",
        "print('\\t\\t\\tPERFORMANCE\\n')\n",
        "print('Accuracy:', round(accuracy_score(y_val, y_test), 4), '\\n')\n",
        "print('recall', round(f1_score(y_val, y_test), 4), '\\n')\n",
        "\n",
        "print(classification_report(y_val, y_test))\n"
      ],
      "execution_count": 23,
      "outputs": [
        {
          "output_type": "stream",
          "text": [
            "\t\t\tPERFORMANCE\n",
            "\n",
            "Accuracy: 0.8395 \n",
            "\n",
            "recall 0.8441 \n",
            "\n",
            "              precision    recall  f1-score   support\n",
            "\n",
            "           0       0.86      0.81      0.83      4974\n",
            "           1       0.82      0.87      0.84      4959\n",
            "\n",
            "    accuracy                           0.84      9933\n",
            "   macro avg       0.84      0.84      0.84      9933\n",
            "weighted avg       0.84      0.84      0.84      9933\n",
            "\n"
          ],
          "name": "stdout"
        }
      ]
    },
    {
      "cell_type": "code",
      "metadata": {
        "colab": {
          "base_uri": "https://localhost:8080/",
          "height": 295
        },
        "id": "jKeZXCU_DT9I",
        "outputId": "f1fa3af9-5450-452a-dbcf-73ba897b238c"
      },
      "source": [
        "import matplotlib.pyplot as plt\n",
        "plt.plot(history.history['loss'])\n",
        "plt.plot(history.history['val_loss'])\n",
        "plt.title('model loss')\n",
        "plt.ylabel('loss')\n",
        "plt.xlabel('epoch')\n",
        "plt.legend(['train', 'validation'], loc='upper left')\n",
        "plt.show()\n",
        "\n"
      ],
      "execution_count": 24,
      "outputs": [
        {
          "output_type": "display_data",
          "data": {
            "image/png": "[encoded data removed]",
            "text/plain": [
              "<Figure size 432x288 with 1 Axes>"
            ]
          },
          "metadata": {}
        }
      ]
    },
    {
      "cell_type": "code",
      "metadata": {
        "colab": {
          "base_uri": "https://localhost:8080/",
          "height": 295
        },
        "id": "s3KSVLqMDcs_",
        "outputId": "7bff4b06-e27a-433e-e4d6-133b5d85b31f"
      },
      "source": [
        "plt.plot(history.history['accuracy'])\n",
        "plt.plot(history.history['val_accuracy'])\n",
        "plt.title('model accuracy')\n",
        "plt.ylabel('accuracy')\n",
        "plt.xlabel('epoch')\n",
        "plt.legend(['train', 'validation'], loc='upper left')\n",
        "plt.show()"
      ],
      "execution_count": null,
      "outputs": [
        {
          "output_type": "display_data",
          "data": {
            "image/png": "[encoded data removed]",
            "text/plain": [
              "<Figure size 432x288 with 1 Axes>"
            ]
          },
          "metadata": {}
        }
      ]
    },
    {
      "cell_type": "markdown",
      "metadata": {
        "id": "SNWtvQYIIIQl"
      },
      "source": [
        "# **Final Test**"
      ]
    },
    {
      "cell_type": "code",
      "metadata": {
        "id": "uTEVK2JQ2a7U"
      },
      "source": [
        "def predictionF(nombre):\n",
        "      if (nombre>0.5) : return 'Positive'\n",
        "      return 'Negative'\n"
      ],
      "execution_count": 28,
      "outputs": []
    },
    {
      "cell_type": "code",
      "metadata": {
        "id": "YzvwpoaW3fhR"
      },
      "source": [
        "def proc_padding(phrase):\n",
        "    seq= tokenizer.texts_to_sequences(phrase)\n",
        "    data= pad_sequences(seq1, maxlen= 281 , padding='post')\n",
        "    return data"
      ],
      "execution_count": null,
      "outputs": []
    },
    {
      "cell_type": "markdown",
      "metadata": {
        "id": "wHlW_VRnnRLF"
      },
      "source": [
        "### Save Model"
      ]
    },
    {
      "cell_type": "code",
      "metadata": {
        "id": "X2Osqg74Uz2J"
      },
      "source": [
        "model2.save('/content/drive/MyDrive/Colab Notebooks/ModelEss/model_84.h5')"
      ],
      "execution_count": 26,
      "outputs": []
    },
    {
      "cell_type": "markdown",
      "metadata": {
        "id": "TRnkWdCrnW5S"
      },
      "source": [
        "### Load Model"
      ]
    },
    {
      "cell_type": "code",
      "metadata": {
        "id": "GkDqd8zzUzjk"
      },
      "source": [
        "from tensorflow.keras.models import load_model\n",
        "model_loaded=load_model('/content/drive/MyDrive/Colab Notebooks/ModelEss/model_281.h5')"
      ],
      "execution_count": 64,
      "outputs": []
    },
    {
      "cell_type": "code",
      "metadata": {
        "colab": {
          "base_uri": "https://localhost:8080/"
        },
        "id": "R40A6FPEIGSD",
        "outputId": "811ef3b1-1252-42be-a5ec-ac54e5035f1e"
      },
      "source": [
        "phrase1 = ['منعودش نشري منتوج صفر']\n",
        "phrase2=[' نتيا فور هايله بزاف']\n",
        "\n",
        "seq1= tokenizer.texts_to_sequences(phrase1)\n",
        "seq2= tokenizer.texts_to_sequences(phrase2)\n",
        "data1 = pad_sequences(seq1, maxlen= 279 , padding='post')\n",
        "data2 = pad_sequences(seq2, maxlen= 279 , padding='post')\n",
        "\n",
        "prediction1=model_loaded.predict(data1)\n",
        "prediction2=model_loaded.predict(data2)\n",
        "print('Predection\\n 1: ',predictionF(prediction1) ,'\\n 2: ',predictionF(prediction2))\n"
      ],
      "execution_count": 30,
      "outputs": [
        {
          "output_type": "stream",
          "text": [
            "Predection\n",
            " 1:  Negative \n",
            " 2:  Positive\n"
          ],
          "name": "stdout"
        }
      ]
    },
    {
      "cell_type": "code",
      "metadata": {
        "id": "BukAWpXwKD7f",
        "colab": {
          "base_uri": "https://localhost:8080/",
          "height": 204
        },
        "outputId": "7d9536b0-b09c-47f6-8d03-2ecf20a69f23"
      },
      "source": [
        "import pandas as pd\n",
        "nouv=pd.read_csv('/content/drive/MyDrive/Colab Notebooks/Data/Ctest.csv').iloc[1:,:]\n",
        "nouv.head()"
      ],
      "execution_count": 65,
      "outputs": [
        {
          "output_type": "execute_result",
          "data": {
            "text/html": [
              "<div>\n",
              "<style scoped>\n",
              "    .dataframe tbody tr th:only-of-type {\n",
              "        vertical-align: middle;\n",
              "    }\n",
              "\n",
              "    .dataframe tbody tr th {\n",
              "        vertical-align: top;\n",
              "    }\n",
              "\n",
              "    .dataframe thead th {\n",
              "        text-align: right;\n",
              "    }\n",
              "</style>\n",
              "<table border=\"1\" class=\"dataframe\">\n",
              "  <thead>\n",
              "    <tr style=\"text-align: right;\">\n",
              "      <th></th>\n",
              "      <th>Unnamed: 0</th>\n",
              "      <th>tweet</th>\n",
              "      <th>class</th>\n",
              "    </tr>\n",
              "  </thead>\n",
              "  <tbody>\n",
              "    <tr>\n",
              "      <th>1</th>\n",
              "      <td>1</td>\n",
              "      <td>لحاله مراهش قاع تعجب</td>\n",
              "      <td>NaN</td>\n",
              "    </tr>\n",
              "    <tr>\n",
              "      <th>2</th>\n",
              "      <td>2</td>\n",
              "      <td>فرحتلك تهنيت الحمد لله</td>\n",
              "      <td>NaN</td>\n",
              "    </tr>\n",
              "    <tr>\n",
              "      <th>3</th>\n",
              "      <td>3</td>\n",
              "      <td>هادي تافهه وقليله ادب</td>\n",
              "      <td>NaN</td>\n",
              "    </tr>\n",
              "    <tr>\n",
              "      <th>4</th>\n",
              "      <td>4</td>\n",
              "      <td>نتيا فور هايله بزاف</td>\n",
              "      <td>NaN</td>\n",
              "    </tr>\n",
              "    <tr>\n",
              "      <th>5</th>\n",
              "      <td>5</td>\n",
              "      <td>لبروف هداك نعمه الاخلاق وراسه معمر</td>\n",
              "      <td>NaN</td>\n",
              "    </tr>\n",
              "  </tbody>\n",
              "</table>\n",
              "</div>"
            ],
            "text/plain": [
              "  Unnamed: 0                               tweet class\n",
              "1          1                لحاله مراهش قاع تعجب   NaN\n",
              "2          2              فرحتلك تهنيت الحمد لله   NaN\n",
              "3          3               هادي تافهه وقليله ادب   NaN\n",
              "4          4                 نتيا فور هايله بزاف   NaN\n",
              "5          5  لبروف هداك نعمه الاخلاق وراسه معمر   NaN"
            ]
          },
          "metadata": {},
          "execution_count": 65
        }
      ]
    },
    {
      "cell_type": "code",
      "metadata": {
        "id": "e_VsBm8JIKXU"
      },
      "source": [
        "with open(\"/content/drive/MyDrive/Colab Notebooks/ModelEss/tokenizer_data.pkl\", 'rb') as f:\n",
        "    data = pickle.load(f)\n",
        "          \n",
        "\n",
        "    tokenizer = data['tokenizer']\n",
        "    num_words = data['num_words']\n",
        "    maxlen = data['maxlen']\n"
      ],
      "execution_count": 67,
      "outputs": []
    },
    {
      "cell_type": "code",
      "metadata": {
        "colab": {
          "base_uri": "https://localhost:8080/",
          "height": 958
        },
        "id": "2uViTjFQJM44",
        "outputId": "ef69068a-87f6-42cd-b027-8019835dfea8"
      },
      "source": [
        "def predictionF(nombre):\n",
        "      if (nombre>0.5) : return 'Positive'\n",
        "      return 'Negative'\n",
        "\n",
        "Text =nouv['tweet'].astype(str)\n",
        "seq1= tokenizer.texts_to_sequences(Text)\n",
        "data1 = pad_sequences(seq1, maxlen=maxlen, padding='post')\n",
        "\n",
        "prediction1=model_loaded.predict(data1)\n",
        "prediction1\n",
        "nouv['class']=prediction1\n",
        "nouv['class'] =nouv['class'].apply(predictionF)\n",
        "nouv\n",
        "\n",
        "#print('Predection\\n 1: ',predictionF(prediction1) ,'\\n 2: ',predictionF(prediction2))"
      ],
      "execution_count": 68,
      "outputs": [
        {
          "output_type": "stream",
          "text": [
            "WARNING:tensorflow:Model was constructed with shape (None, 281) for input KerasTensor(type_spec=TensorSpec(shape=(None, 281), dtype=tf.float32, name='embedding_2_input'), name='embedding_2_input', description=\"created by layer 'embedding_2_input'\"), but it was called on an input with incompatible shape (None, 279).\n"
          ],
          "name": "stdout"
        },
        {
          "output_type": "error",
          "ename": "ValueError",
          "evalue": "ignored",
          "traceback": [
            "\u001b[0;31m---------------------------------------------------------------------------\u001b[0m",
            "\u001b[0;31mValueError\u001b[0m                                Traceback (most recent call last)",
            "\u001b[0;32m<ipython-input-68-ce416063343d>\u001b[0m in \u001b[0;36m<module>\u001b[0;34m()\u001b[0m\n\u001b[1;32m      7\u001b[0m \u001b[0mdata1\u001b[0m \u001b[0;34m=\u001b[0m \u001b[0mpad_sequences\u001b[0m\u001b[0;34m(\u001b[0m\u001b[0mseq1\u001b[0m\u001b[0;34m,\u001b[0m \u001b[0mmaxlen\u001b[0m\u001b[0;34m=\u001b[0m\u001b[0mmaxlen\u001b[0m\u001b[0;34m,\u001b[0m \u001b[0mpadding\u001b[0m\u001b[0;34m=\u001b[0m\u001b[0;34m'post'\u001b[0m\u001b[0;34m)\u001b[0m\u001b[0;34m\u001b[0m\u001b[0;34m\u001b[0m\u001b[0m\n\u001b[1;32m      8\u001b[0m \u001b[0;34m\u001b[0m\u001b[0m\n\u001b[0;32m----> 9\u001b[0;31m \u001b[0mprediction1\u001b[0m\u001b[0;34m=\u001b[0m\u001b[0mmodel_loaded\u001b[0m\u001b[0;34m.\u001b[0m\u001b[0mpredict\u001b[0m\u001b[0;34m(\u001b[0m\u001b[0mdata1\u001b[0m\u001b[0;34m)\u001b[0m\u001b[0;34m\u001b[0m\u001b[0;34m\u001b[0m\u001b[0m\n\u001b[0m\u001b[1;32m     10\u001b[0m \u001b[0mprediction1\u001b[0m\u001b[0;34m\u001b[0m\u001b[0;34m\u001b[0m\u001b[0m\n\u001b[1;32m     11\u001b[0m \u001b[0mnouv\u001b[0m\u001b[0;34m[\u001b[0m\u001b[0;34m'class'\u001b[0m\u001b[0;34m]\u001b[0m\u001b[0;34m=\u001b[0m\u001b[0mprediction1\u001b[0m\u001b[0;34m\u001b[0m\u001b[0;34m\u001b[0m\u001b[0m\n",
            "\u001b[0;32m/usr/local/lib/python3.7/dist-packages/keras/engine/training.py\u001b[0m in \u001b[0;36mpredict\u001b[0;34m(self, x, batch_size, verbose, steps, callbacks, max_queue_size, workers, use_multiprocessing)\u001b[0m\n\u001b[1;32m   1749\u001b[0m           \u001b[0;32mfor\u001b[0m \u001b[0mstep\u001b[0m \u001b[0;32min\u001b[0m \u001b[0mdata_handler\u001b[0m\u001b[0;34m.\u001b[0m\u001b[0msteps\u001b[0m\u001b[0;34m(\u001b[0m\u001b[0;34m)\u001b[0m\u001b[0;34m:\u001b[0m\u001b[0;34m\u001b[0m\u001b[0;34m\u001b[0m\u001b[0m\n\u001b[1;32m   1750\u001b[0m             \u001b[0mcallbacks\u001b[0m\u001b[0;34m.\u001b[0m\u001b[0mon_predict_batch_begin\u001b[0m\u001b[0;34m(\u001b[0m\u001b[0mstep\u001b[0m\u001b[0;34m)\u001b[0m\u001b[0;34m\u001b[0m\u001b[0;34m\u001b[0m\u001b[0m\n\u001b[0;32m-> 1751\u001b[0;31m             \u001b[0mtmp_batch_outputs\u001b[0m \u001b[0;34m=\u001b[0m \u001b[0mself\u001b[0m\u001b[0;34m.\u001b[0m\u001b[0mpredict_function\u001b[0m\u001b[0;34m(\u001b[0m\u001b[0miterator\u001b[0m\u001b[0;34m)\u001b[0m\u001b[0;34m\u001b[0m\u001b[0;34m\u001b[0m\u001b[0m\n\u001b[0m\u001b[1;32m   1752\u001b[0m             \u001b[0;32mif\u001b[0m \u001b[0mdata_handler\u001b[0m\u001b[0;34m.\u001b[0m\u001b[0mshould_sync\u001b[0m\u001b[0;34m:\u001b[0m\u001b[0;34m\u001b[0m\u001b[0;34m\u001b[0m\u001b[0m\n\u001b[1;32m   1753\u001b[0m               \u001b[0mcontext\u001b[0m\u001b[0;34m.\u001b[0m\u001b[0masync_wait\u001b[0m\u001b[0;34m(\u001b[0m\u001b[0;34m)\u001b[0m\u001b[0;34m\u001b[0m\u001b[0;34m\u001b[0m\u001b[0m\n",
            "\u001b[0;32m/usr/local/lib/python3.7/dist-packages/tensorflow/python/eager/def_function.py\u001b[0m in \u001b[0;36m__call__\u001b[0;34m(self, *args, **kwds)\u001b[0m\n\u001b[1;32m    883\u001b[0m \u001b[0;34m\u001b[0m\u001b[0m\n\u001b[1;32m    884\u001b[0m       \u001b[0;32mwith\u001b[0m \u001b[0mOptionalXlaContext\u001b[0m\u001b[0;34m(\u001b[0m\u001b[0mself\u001b[0m\u001b[0;34m.\u001b[0m\u001b[0m_jit_compile\u001b[0m\u001b[0;34m)\u001b[0m\u001b[0;34m:\u001b[0m\u001b[0;34m\u001b[0m\u001b[0;34m\u001b[0m\u001b[0m\n\u001b[0;32m--> 885\u001b[0;31m         \u001b[0mresult\u001b[0m \u001b[0;34m=\u001b[0m \u001b[0mself\u001b[0m\u001b[0;34m.\u001b[0m\u001b[0m_call\u001b[0m\u001b[0;34m(\u001b[0m\u001b[0;34m*\u001b[0m\u001b[0margs\u001b[0m\u001b[0;34m,\u001b[0m \u001b[0;34m**\u001b[0m\u001b[0mkwds\u001b[0m\u001b[0;34m)\u001b[0m\u001b[0;34m\u001b[0m\u001b[0;34m\u001b[0m\u001b[0m\n\u001b[0m\u001b[1;32m    886\u001b[0m \u001b[0;34m\u001b[0m\u001b[0m\n\u001b[1;32m    887\u001b[0m       \u001b[0mnew_tracing_count\u001b[0m \u001b[0;34m=\u001b[0m \u001b[0mself\u001b[0m\u001b[0;34m.\u001b[0m\u001b[0mexperimental_get_tracing_count\u001b[0m\u001b[0;34m(\u001b[0m\u001b[0;34m)\u001b[0m\u001b[0;34m\u001b[0m\u001b[0;34m\u001b[0m\u001b[0m\n",
            "\u001b[0;32m/usr/local/lib/python3.7/dist-packages/tensorflow/python/eager/def_function.py\u001b[0m in \u001b[0;36m_call\u001b[0;34m(self, *args, **kwds)\u001b[0m\n\u001b[1;32m    931\u001b[0m       \u001b[0;31m# This is the first call of __call__, so we have to initialize.\u001b[0m\u001b[0;34m\u001b[0m\u001b[0;34m\u001b[0m\u001b[0;34m\u001b[0m\u001b[0m\n\u001b[1;32m    932\u001b[0m       \u001b[0minitializers\u001b[0m \u001b[0;34m=\u001b[0m \u001b[0;34m[\u001b[0m\u001b[0;34m]\u001b[0m\u001b[0;34m\u001b[0m\u001b[0;34m\u001b[0m\u001b[0m\n\u001b[0;32m--> 933\u001b[0;31m       \u001b[0mself\u001b[0m\u001b[0;34m.\u001b[0m\u001b[0m_initialize\u001b[0m\u001b[0;34m(\u001b[0m\u001b[0margs\u001b[0m\u001b[0;34m,\u001b[0m \u001b[0mkwds\u001b[0m\u001b[0;34m,\u001b[0m \u001b[0madd_initializers_to\u001b[0m\u001b[0;34m=\u001b[0m\u001b[0minitializers\u001b[0m\u001b[0;34m)\u001b[0m\u001b[0;34m\u001b[0m\u001b[0;34m\u001b[0m\u001b[0m\n\u001b[0m\u001b[1;32m    934\u001b[0m     \u001b[0;32mfinally\u001b[0m\u001b[0;34m:\u001b[0m\u001b[0;34m\u001b[0m\u001b[0;34m\u001b[0m\u001b[0m\n\u001b[1;32m    935\u001b[0m       \u001b[0;31m# At this point we know that the initialization is complete (or less\u001b[0m\u001b[0;34m\u001b[0m\u001b[0;34m\u001b[0m\u001b[0;34m\u001b[0m\u001b[0m\n",
            "\u001b[0;32m/usr/local/lib/python3.7/dist-packages/tensorflow/python/eager/def_function.py\u001b[0m in \u001b[0;36m_initialize\u001b[0;34m(self, args, kwds, add_initializers_to)\u001b[0m\n\u001b[1;32m    758\u001b[0m     self._concrete_stateful_fn = (\n\u001b[1;32m    759\u001b[0m         self._stateful_fn._get_concrete_function_internal_garbage_collected(  # pylint: disable=protected-access\n\u001b[0;32m--> 760\u001b[0;31m             *args, **kwds))\n\u001b[0m\u001b[1;32m    761\u001b[0m \u001b[0;34m\u001b[0m\u001b[0m\n\u001b[1;32m    762\u001b[0m     \u001b[0;32mdef\u001b[0m \u001b[0minvalid_creator_scope\u001b[0m\u001b[0;34m(\u001b[0m\u001b[0;34m*\u001b[0m\u001b[0munused_args\u001b[0m\u001b[0;34m,\u001b[0m \u001b[0;34m**\u001b[0m\u001b[0munused_kwds\u001b[0m\u001b[0;34m)\u001b[0m\u001b[0;34m:\u001b[0m\u001b[0;34m\u001b[0m\u001b[0;34m\u001b[0m\u001b[0m\n",
            "\u001b[0;32m/usr/local/lib/python3.7/dist-packages/tensorflow/python/eager/function.py\u001b[0m in \u001b[0;36m_get_concrete_function_internal_garbage_collected\u001b[0;34m(self, *args, **kwargs)\u001b[0m\n\u001b[1;32m   3064\u001b[0m       \u001b[0margs\u001b[0m\u001b[0;34m,\u001b[0m \u001b[0mkwargs\u001b[0m \u001b[0;34m=\u001b[0m \u001b[0;32mNone\u001b[0m\u001b[0;34m,\u001b[0m \u001b[0;32mNone\u001b[0m\u001b[0;34m\u001b[0m\u001b[0;34m\u001b[0m\u001b[0m\n\u001b[1;32m   3065\u001b[0m     \u001b[0;32mwith\u001b[0m \u001b[0mself\u001b[0m\u001b[0;34m.\u001b[0m\u001b[0m_lock\u001b[0m\u001b[0;34m:\u001b[0m\u001b[0;34m\u001b[0m\u001b[0;34m\u001b[0m\u001b[0m\n\u001b[0;32m-> 3066\u001b[0;31m       \u001b[0mgraph_function\u001b[0m\u001b[0;34m,\u001b[0m \u001b[0m_\u001b[0m \u001b[0;34m=\u001b[0m \u001b[0mself\u001b[0m\u001b[0;34m.\u001b[0m\u001b[0m_maybe_define_function\u001b[0m\u001b[0;34m(\u001b[0m\u001b[0margs\u001b[0m\u001b[0;34m,\u001b[0m \u001b[0mkwargs\u001b[0m\u001b[0;34m)\u001b[0m\u001b[0;34m\u001b[0m\u001b[0;34m\u001b[0m\u001b[0m\n\u001b[0m\u001b[1;32m   3067\u001b[0m     \u001b[0;32mreturn\u001b[0m \u001b[0mgraph_function\u001b[0m\u001b[0;34m\u001b[0m\u001b[0;34m\u001b[0m\u001b[0m\n\u001b[1;32m   3068\u001b[0m \u001b[0;34m\u001b[0m\u001b[0m\n",
            "\u001b[0;32m/usr/local/lib/python3.7/dist-packages/tensorflow/python/eager/function.py\u001b[0m in \u001b[0;36m_maybe_define_function\u001b[0;34m(self, args, kwargs)\u001b[0m\n\u001b[1;32m   3461\u001b[0m \u001b[0;34m\u001b[0m\u001b[0m\n\u001b[1;32m   3462\u001b[0m           \u001b[0mself\u001b[0m\u001b[0;34m.\u001b[0m\u001b[0m_function_cache\u001b[0m\u001b[0;34m.\u001b[0m\u001b[0mmissed\u001b[0m\u001b[0;34m.\u001b[0m\u001b[0madd\u001b[0m\u001b[0;34m(\u001b[0m\u001b[0mcall_context_key\u001b[0m\u001b[0;34m)\u001b[0m\u001b[0;34m\u001b[0m\u001b[0;34m\u001b[0m\u001b[0m\n\u001b[0;32m-> 3463\u001b[0;31m           \u001b[0mgraph_function\u001b[0m \u001b[0;34m=\u001b[0m \u001b[0mself\u001b[0m\u001b[0;34m.\u001b[0m\u001b[0m_create_graph_function\u001b[0m\u001b[0;34m(\u001b[0m\u001b[0margs\u001b[0m\u001b[0;34m,\u001b[0m \u001b[0mkwargs\u001b[0m\u001b[0;34m)\u001b[0m\u001b[0;34m\u001b[0m\u001b[0;34m\u001b[0m\u001b[0m\n\u001b[0m\u001b[1;32m   3464\u001b[0m           \u001b[0mself\u001b[0m\u001b[0;34m.\u001b[0m\u001b[0m_function_cache\u001b[0m\u001b[0;34m.\u001b[0m\u001b[0mprimary\u001b[0m\u001b[0;34m[\u001b[0m\u001b[0mcache_key\u001b[0m\u001b[0;34m]\u001b[0m \u001b[0;34m=\u001b[0m \u001b[0mgraph_function\u001b[0m\u001b[0;34m\u001b[0m\u001b[0;34m\u001b[0m\u001b[0m\n\u001b[1;32m   3465\u001b[0m \u001b[0;34m\u001b[0m\u001b[0m\n",
            "\u001b[0;32m/usr/local/lib/python3.7/dist-packages/tensorflow/python/eager/function.py\u001b[0m in \u001b[0;36m_create_graph_function\u001b[0;34m(self, args, kwargs, override_flat_arg_shapes)\u001b[0m\n\u001b[1;32m   3306\u001b[0m             \u001b[0marg_names\u001b[0m\u001b[0;34m=\u001b[0m\u001b[0marg_names\u001b[0m\u001b[0;34m,\u001b[0m\u001b[0;34m\u001b[0m\u001b[0;34m\u001b[0m\u001b[0m\n\u001b[1;32m   3307\u001b[0m             \u001b[0moverride_flat_arg_shapes\u001b[0m\u001b[0;34m=\u001b[0m\u001b[0moverride_flat_arg_shapes\u001b[0m\u001b[0;34m,\u001b[0m\u001b[0;34m\u001b[0m\u001b[0;34m\u001b[0m\u001b[0m\n\u001b[0;32m-> 3308\u001b[0;31m             capture_by_value=self._capture_by_value),\n\u001b[0m\u001b[1;32m   3309\u001b[0m         \u001b[0mself\u001b[0m\u001b[0;34m.\u001b[0m\u001b[0m_function_attributes\u001b[0m\u001b[0;34m,\u001b[0m\u001b[0;34m\u001b[0m\u001b[0;34m\u001b[0m\u001b[0m\n\u001b[1;32m   3310\u001b[0m         \u001b[0mfunction_spec\u001b[0m\u001b[0;34m=\u001b[0m\u001b[0mself\u001b[0m\u001b[0;34m.\u001b[0m\u001b[0mfunction_spec\u001b[0m\u001b[0;34m,\u001b[0m\u001b[0;34m\u001b[0m\u001b[0;34m\u001b[0m\u001b[0m\n",
            "\u001b[0;32m/usr/local/lib/python3.7/dist-packages/tensorflow/python/framework/func_graph.py\u001b[0m in \u001b[0;36mfunc_graph_from_py_func\u001b[0;34m(name, python_func, args, kwargs, signature, func_graph, autograph, autograph_options, add_control_dependencies, arg_names, op_return_value, collections, capture_by_value, override_flat_arg_shapes, acd_record_initial_resource_uses)\u001b[0m\n\u001b[1;32m   1005\u001b[0m         \u001b[0m_\u001b[0m\u001b[0;34m,\u001b[0m \u001b[0moriginal_func\u001b[0m \u001b[0;34m=\u001b[0m \u001b[0mtf_decorator\u001b[0m\u001b[0;34m.\u001b[0m\u001b[0munwrap\u001b[0m\u001b[0;34m(\u001b[0m\u001b[0mpython_func\u001b[0m\u001b[0;34m)\u001b[0m\u001b[0;34m\u001b[0m\u001b[0;34m\u001b[0m\u001b[0m\n\u001b[1;32m   1006\u001b[0m \u001b[0;34m\u001b[0m\u001b[0m\n\u001b[0;32m-> 1007\u001b[0;31m       \u001b[0mfunc_outputs\u001b[0m \u001b[0;34m=\u001b[0m \u001b[0mpython_func\u001b[0m\u001b[0;34m(\u001b[0m\u001b[0;34m*\u001b[0m\u001b[0mfunc_args\u001b[0m\u001b[0;34m,\u001b[0m \u001b[0;34m**\u001b[0m\u001b[0mfunc_kwargs\u001b[0m\u001b[0;34m)\u001b[0m\u001b[0;34m\u001b[0m\u001b[0;34m\u001b[0m\u001b[0m\n\u001b[0m\u001b[1;32m   1008\u001b[0m \u001b[0;34m\u001b[0m\u001b[0m\n\u001b[1;32m   1009\u001b[0m       \u001b[0;31m# invariant: `func_outputs` contains only Tensors, CompositeTensors,\u001b[0m\u001b[0;34m\u001b[0m\u001b[0;34m\u001b[0m\u001b[0;34m\u001b[0m\u001b[0m\n",
            "\u001b[0;32m/usr/local/lib/python3.7/dist-packages/tensorflow/python/eager/def_function.py\u001b[0m in \u001b[0;36mwrapped_fn\u001b[0;34m(*args, **kwds)\u001b[0m\n\u001b[1;32m    666\u001b[0m         \u001b[0;31m# the function a weak reference to itself to avoid a reference cycle.\u001b[0m\u001b[0;34m\u001b[0m\u001b[0;34m\u001b[0m\u001b[0;34m\u001b[0m\u001b[0m\n\u001b[1;32m    667\u001b[0m         \u001b[0;32mwith\u001b[0m \u001b[0mOptionalXlaContext\u001b[0m\u001b[0;34m(\u001b[0m\u001b[0mcompile_with_xla\u001b[0m\u001b[0;34m)\u001b[0m\u001b[0;34m:\u001b[0m\u001b[0;34m\u001b[0m\u001b[0;34m\u001b[0m\u001b[0m\n\u001b[0;32m--> 668\u001b[0;31m           \u001b[0mout\u001b[0m \u001b[0;34m=\u001b[0m \u001b[0mweak_wrapped_fn\u001b[0m\u001b[0;34m(\u001b[0m\u001b[0;34m)\u001b[0m\u001b[0;34m.\u001b[0m\u001b[0m__wrapped__\u001b[0m\u001b[0;34m(\u001b[0m\u001b[0;34m*\u001b[0m\u001b[0margs\u001b[0m\u001b[0;34m,\u001b[0m \u001b[0;34m**\u001b[0m\u001b[0mkwds\u001b[0m\u001b[0;34m)\u001b[0m\u001b[0;34m\u001b[0m\u001b[0;34m\u001b[0m\u001b[0m\n\u001b[0m\u001b[1;32m    669\u001b[0m         \u001b[0;32mreturn\u001b[0m \u001b[0mout\u001b[0m\u001b[0;34m\u001b[0m\u001b[0;34m\u001b[0m\u001b[0m\n\u001b[1;32m    670\u001b[0m \u001b[0;34m\u001b[0m\u001b[0m\n",
            "\u001b[0;32m/usr/local/lib/python3.7/dist-packages/tensorflow/python/framework/func_graph.py\u001b[0m in \u001b[0;36mwrapper\u001b[0;34m(*args, **kwargs)\u001b[0m\n\u001b[1;32m    992\u001b[0m           \u001b[0;32mexcept\u001b[0m \u001b[0mException\u001b[0m \u001b[0;32mas\u001b[0m \u001b[0me\u001b[0m\u001b[0;34m:\u001b[0m  \u001b[0;31m# pylint:disable=broad-except\u001b[0m\u001b[0;34m\u001b[0m\u001b[0;34m\u001b[0m\u001b[0m\n\u001b[1;32m    993\u001b[0m             \u001b[0;32mif\u001b[0m \u001b[0mhasattr\u001b[0m\u001b[0;34m(\u001b[0m\u001b[0me\u001b[0m\u001b[0;34m,\u001b[0m \u001b[0;34m\"ag_error_metadata\"\u001b[0m\u001b[0;34m)\u001b[0m\u001b[0;34m:\u001b[0m\u001b[0;34m\u001b[0m\u001b[0;34m\u001b[0m\u001b[0m\n\u001b[0;32m--> 994\u001b[0;31m               \u001b[0;32mraise\u001b[0m \u001b[0me\u001b[0m\u001b[0;34m.\u001b[0m\u001b[0mag_error_metadata\u001b[0m\u001b[0;34m.\u001b[0m\u001b[0mto_exception\u001b[0m\u001b[0;34m(\u001b[0m\u001b[0me\u001b[0m\u001b[0;34m)\u001b[0m\u001b[0;34m\u001b[0m\u001b[0;34m\u001b[0m\u001b[0m\n\u001b[0m\u001b[1;32m    995\u001b[0m             \u001b[0;32melse\u001b[0m\u001b[0;34m:\u001b[0m\u001b[0;34m\u001b[0m\u001b[0;34m\u001b[0m\u001b[0m\n\u001b[1;32m    996\u001b[0m               \u001b[0;32mraise\u001b[0m\u001b[0;34m\u001b[0m\u001b[0;34m\u001b[0m\u001b[0m\n",
            "\u001b[0;31mValueError\u001b[0m: in user code:\n\n    /usr/local/lib/python3.7/dist-packages/keras/engine/training.py:1586 predict_function  *\n        return step_function(self, iterator)\n    /usr/local/lib/python3.7/dist-packages/keras/engine/training.py:1576 step_function  **\n        outputs = model.distribute_strategy.run(run_step, args=(data,))\n    /usr/local/lib/python3.7/dist-packages/tensorflow/python/distribute/distribute_lib.py:1286 run\n        return self._extended.call_for_each_replica(fn, args=args, kwargs=kwargs)\n    /usr/local/lib/python3.7/dist-packages/tensorflow/python/distribute/distribute_lib.py:2849 call_for_each_replica\n        return self._call_for_each_replica(fn, args, kwargs)\n    /usr/local/lib/python3.7/dist-packages/tensorflow/python/distribute/distribute_lib.py:3632 _call_for_each_replica\n        return fn(*args, **kwargs)\n    /usr/local/lib/python3.7/dist-packages/keras/engine/training.py:1569 run_step  **\n        outputs = model.predict_step(data)\n    /usr/local/lib/python3.7/dist-packages/keras/engine/training.py:1537 predict_step\n        return self(x, training=False)\n    /usr/local/lib/python3.7/dist-packages/keras/engine/base_layer.py:1037 __call__\n        outputs = call_fn(inputs, *args, **kwargs)\n    /usr/local/lib/python3.7/dist-packages/keras/engine/sequential.py:369 call\n        return super(Sequential, self).call(inputs, training=training, mask=mask)\n    /usr/local/lib/python3.7/dist-packages/keras/engine/functional.py:415 call\n        inputs, training=training, mask=mask)\n    /usr/local/lib/python3.7/dist-packages/keras/engine/functional.py:550 _run_internal_graph\n        outputs = node.layer(*args, **kwargs)\n    /usr/local/lib/python3.7/dist-packages/keras/engine/base_layer.py:1020 __call__\n        input_spec.assert_input_compatibility(self.input_spec, inputs, self.name)\n    /usr/local/lib/python3.7/dist-packages/keras/engine/input_spec.py:254 assert_input_compatibility\n        ' but received input with shape ' + display_shape(x.shape))\n\n    ValueError: Input 0 of layer dense_2 is incompatible with the layer: expected axis -1 of input shape to have value 35968 but received input with shape (None, 35712)\n"
          ]
        }
      ]
    },
    {
      "cell_type": "code",
      "metadata": {
        "colab": {
          "base_uri": "https://localhost:8080/"
        },
        "id": "zCF8Wu8MI8pD",
        "outputId": "3273f257-645f-434d-a9d0-69a2756588ac"
      },
      "source": [
        "x\n",
        "x"
      ],
      "execution_count": 37,
      "outputs": [
        {
          "output_type": "execute_result",
          "data": {
            "text/plain": [
              "0                                    nan\n",
              "1                   لحاله مراهش قاع تعجب\n",
              "2                 فرحتلك تهنيت الحمد لله\n",
              "3                  هادي تافهه وقليله ادب\n",
              "4                    نتيا فور هايله بزاف\n",
              "5     لبروف هداك نعمه الاخلاق وراسه معمر\n",
              "6                    بلاد لخرا والميزريه\n",
              "7           اللاعب كان لمخير فهاد الماتش\n",
              "8                شا راكي حاسبه روحك نتيه\n",
              "9             ليكول تاعنه جابت افضل معدل\n",
              "10                 منعودش نشري منتوج صفر\n",
              "Name: tweet, dtype: object"
            ]
          },
          "metadata": {},
          "execution_count": 37
        }
      ]
    },
    {
      "cell_type": "code",
      "metadata": {
        "id": "4PgRtZRv4i-Z",
        "colab": {
          "base_uri": "https://localhost:8080/",
          "height": 238
        },
        "outputId": "049d72d9-22cf-4179-f33a-f2cb8c2b8d63"
      },
      "source": [
        "from csv import DictReader\n",
        "classif=[]\n",
        "# iterate over each line as a ordered dictionary and print only few column by column name\n",
        "with open('/content/drive/MyDrive/Colab Notebooks/Data/TestArab.csv', 'r') as read_obj:\n",
        "    csv_dict_reader = DictReader(read_obj)\n",
        "    for row in csv_dict_reader:\n",
        "       liste=(predictionF( model_loaded.predict(proc_padding(row['Tweet']))))\n",
        "       classif.append(liste)\n",
        "       print(liste)\n",
        "       \n",
        "        "
      ],
      "execution_count": null,
      "outputs": [
        {
          "output_type": "error",
          "ename": "NameError",
          "evalue": "ignored",
          "traceback": [
            "\u001b[0;31m---------------------------------------------------------------------------\u001b[0m",
            "\u001b[0;31mNameError\u001b[0m                                 Traceback (most recent call last)",
            "\u001b[0;32m<ipython-input-15-bbb3f62a463e>\u001b[0m in \u001b[0;36m<module>\u001b[0;34m()\u001b[0m\n\u001b[1;32m      5\u001b[0m     \u001b[0mcsv_dict_reader\u001b[0m \u001b[0;34m=\u001b[0m \u001b[0mDictReader\u001b[0m\u001b[0;34m(\u001b[0m\u001b[0mread_obj\u001b[0m\u001b[0;34m)\u001b[0m\u001b[0;34m\u001b[0m\u001b[0;34m\u001b[0m\u001b[0m\n\u001b[1;32m      6\u001b[0m     \u001b[0;32mfor\u001b[0m \u001b[0mrow\u001b[0m \u001b[0;32min\u001b[0m \u001b[0mcsv_dict_reader\u001b[0m\u001b[0;34m:\u001b[0m\u001b[0;34m\u001b[0m\u001b[0;34m\u001b[0m\u001b[0m\n\u001b[0;32m----> 7\u001b[0;31m        \u001b[0mliste\u001b[0m\u001b[0;34m=\u001b[0m\u001b[0;34m(\u001b[0m\u001b[0mpredictionF\u001b[0m\u001b[0;34m(\u001b[0m \u001b[0mmodel_loaded\u001b[0m\u001b[0;34m.\u001b[0m\u001b[0mpredict\u001b[0m\u001b[0;34m(\u001b[0m\u001b[0mproc_padding\u001b[0m\u001b[0;34m(\u001b[0m\u001b[0mrow\u001b[0m\u001b[0;34m[\u001b[0m\u001b[0;34m'Tweet'\u001b[0m\u001b[0;34m]\u001b[0m\u001b[0;34m)\u001b[0m\u001b[0;34m,\u001b[0m\u001b[0mbatch_size\u001b[0m\u001b[0;34m=\u001b[0m\u001b[0;36m4\u001b[0m\u001b[0;34m)\u001b[0m\u001b[0;34m)\u001b[0m\u001b[0;34m)\u001b[0m\u001b[0;34m\u001b[0m\u001b[0;34m\u001b[0m\u001b[0m\n\u001b[0m\u001b[1;32m      8\u001b[0m        \u001b[0mclassif\u001b[0m\u001b[0;34m.\u001b[0m\u001b[0mappend\u001b[0m\u001b[0;34m(\u001b[0m\u001b[0mliste\u001b[0m\u001b[0;34m)\u001b[0m\u001b[0;34m\u001b[0m\u001b[0;34m\u001b[0m\u001b[0m\n\u001b[1;32m      9\u001b[0m        \u001b[0mprint\u001b[0m\u001b[0;34m(\u001b[0m\u001b[0mliste\u001b[0m\u001b[0;34m)\u001b[0m\u001b[0;34m\u001b[0m\u001b[0;34m\u001b[0m\u001b[0m\n",
            "\u001b[0;31mNameError\u001b[0m: name 'predictionF' is not defined"
          ]
        }
      ]
    },
    {
      "cell_type": "code",
      "metadata": {
        "colab": {
          "base_uri": "https://localhost:8080/"
        },
        "id": "V9oiWoc_hQFp",
        "outputId": "1fb7416a-e5bc-4928-e817-d57a24cebd34"
      },
      "source": [
        "classif"
      ],
      "execution_count": null,
      "outputs": [
        {
          "output_type": "execute_result",
          "data": {
            "text/plain": [
              "['Negative',\n",
              " 'Negative',\n",
              " 'Negative',\n",
              " 'Negative',\n",
              " 'Negative',\n",
              " 'Negative',\n",
              " 'Negative',\n",
              " 'Negative',\n",
              " 'Negative']"
            ]
          },
          "metadata": {},
          "execution_count": 118
        }
      ]
    },
    {
      "cell_type": "code",
      "metadata": {
        "id": "tXKGgw8sce9F"
      },
      "source": [
        "nouv[\"Tweet\"]\n",
        "classif\n",
        "dict = {'Tweet': nouv[\"Tweet\"], 'Sentiment': classif}  \n",
        "       \n",
        "df = pd.DataFrame(dict) \n",
        "    \n",
        "# saving the dataframe \n",
        "df.to_csv('/content/drive/MyDrive/Colab Notebooks/Data/TestArab_AfterPrediction.csv') "
      ],
      "execution_count": null,
      "outputs": []
    },
    {
      "cell_type": "code",
      "metadata": {
        "colab": {
          "base_uri": "https://localhost:8080/",
          "height": 328
        },
        "id": "AUoJ7dCwdSy6",
        "outputId": "09470a62-e708-4fed-b099-e6c40f273bba"
      },
      "source": [
        "nouvTester=pd.read_csv('/content/drive/MyDrive/Colab Notebooks/Data/TestArab_AfterPrediction.csv')\n",
        "nouvTester"
      ],
      "execution_count": null,
      "outputs": [
        {
          "output_type": "execute_result",
          "data": {
            "text/html": [
              "<div>\n",
              "<style scoped>\n",
              "    .dataframe tbody tr th:only-of-type {\n",
              "        vertical-align: middle;\n",
              "    }\n",
              "\n",
              "    .dataframe tbody tr th {\n",
              "        vertical-align: top;\n",
              "    }\n",
              "\n",
              "    .dataframe thead th {\n",
              "        text-align: right;\n",
              "    }\n",
              "</style>\n",
              "<table border=\"1\" class=\"dataframe\">\n",
              "  <thead>\n",
              "    <tr style=\"text-align: right;\">\n",
              "      <th></th>\n",
              "      <th>Unnamed: 0</th>\n",
              "      <th>Tweet</th>\n",
              "      <th>Sentiment</th>\n",
              "    </tr>\n",
              "  </thead>\n",
              "  <tbody>\n",
              "    <tr>\n",
              "      <th>0</th>\n",
              "      <td>0</td>\n",
              "      <td>معني معني</td>\n",
              "      <td>Negative</td>\n",
              "    </tr>\n",
              "    <tr>\n",
              "      <th>1</th>\n",
              "      <td>1</td>\n",
              "      <td>اسوا قرات اجد حبكه او مغزي قمه الملل الحسنه ال...</td>\n",
              "      <td>Negative</td>\n",
              "    </tr>\n",
              "    <tr>\n",
              "      <th>2</th>\n",
              "      <td>2</td>\n",
              "      <td>احلي تخلف</td>\n",
              "      <td>Negative</td>\n",
              "    </tr>\n",
              "    <tr>\n",
              "      <th>3</th>\n",
              "      <td>3</td>\n",
              "      <td>الله يرحم والديك الشيخ حفيظ علي الكلام اكبر ال...</td>\n",
              "      <td>Negative</td>\n",
              "    </tr>\n",
              "    <tr>\n",
              "      <th>4</th>\n",
              "      <td>4</td>\n",
              "      <td>زرت فرع الخبر المطعم شكله مستهلك واللحم ماله طعم</td>\n",
              "      <td>Negative</td>\n",
              "    </tr>\n",
              "    <tr>\n",
              "      <th>5</th>\n",
              "      <td>5</td>\n",
              "      <td>ان اللون الرمادي محل الاعراب ياابيض يااسود علم...</td>\n",
              "      <td>Negative</td>\n",
              "    </tr>\n",
              "    <tr>\n",
              "      <th>6</th>\n",
              "      <td>6</td>\n",
              "      <td>ان كنت تحب ان تتسلي فدونك علي الرغم ان ه يعجبن...</td>\n",
              "      <td>Negative</td>\n",
              "    </tr>\n",
              "    <tr>\n",
              "      <th>7</th>\n",
              "      <td>7</td>\n",
              "      <td>مبهمه وغامضه تشدني ابدا ولم اشعر بالتشويق انهي...</td>\n",
              "      <td>Negative</td>\n",
              "    </tr>\n",
              "    <tr>\n",
              "      <th>8</th>\n",
              "      <td>8</td>\n",
              "      <td>كتاب يعبر الكاتبه وحالها بشكل شخصي جدا</td>\n",
              "      <td>Negative</td>\n",
              "    </tr>\n",
              "  </tbody>\n",
              "</table>\n",
              "</div>"
            ],
            "text/plain": [
              "   Unnamed: 0                                              Tweet Sentiment\n",
              "0           0                                          معني معني  Negative\n",
              "1           1  اسوا قرات اجد حبكه او مغزي قمه الملل الحسنه ال...  Negative\n",
              "2           2                                          احلي تخلف  Negative\n",
              "3           3  الله يرحم والديك الشيخ حفيظ علي الكلام اكبر ال...  Negative\n",
              "4           4   زرت فرع الخبر المطعم شكله مستهلك واللحم ماله طعم  Negative\n",
              "5           5  ان اللون الرمادي محل الاعراب ياابيض يااسود علم...  Negative\n",
              "6           6  ان كنت تحب ان تتسلي فدونك علي الرغم ان ه يعجبن...  Negative\n",
              "7           7  مبهمه وغامضه تشدني ابدا ولم اشعر بالتشويق انهي...  Negative\n",
              "8           8             كتاب يعبر الكاتبه وحالها بشكل شخصي جدا  Negative"
            ]
          },
          "metadata": {},
          "execution_count": 123
        }
      ]
    },
    {
      "cell_type": "code",
      "metadata": {
        "id": "sUk0Ro5mm_6L"
      },
      "source": [
        ""
      ],
      "execution_count": null,
      "outputs": []
    }
  ]
}